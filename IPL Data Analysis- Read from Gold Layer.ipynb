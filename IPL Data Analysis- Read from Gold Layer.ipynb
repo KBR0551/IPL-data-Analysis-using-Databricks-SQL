{
 "cells": [
  {
   "cell_type": "markdown",
   "metadata": {
    "application/vnd.databricks.v1+cell": {
     "cellMetadata": {},
     "inputWidgets": {},
     "nuid": "f13ab13a-cd8b-43f9-9ddf-0ab1aa2400dd",
     "showTitle": false,
     "tableResultSettingsMap": {},
     "title": ""
    }
   },
   "source": [
    "Reading data from Gold layer"
   ]
  },
  {
   "cell_type": "code",
   "execution_count": 0,
   "metadata": {
    "application/vnd.databricks.v1+cell": {
     "cellMetadata": {
      "byteLimit": 2048000,
      "implicitDf": true,
      "rowLimit": 10000
     },
     "inputWidgets": {},
     "nuid": "1d15fa43-f6df-4b26-8af9-423251e61af0",
     "showTitle": false,
     "tableResultSettingsMap": {},
     "title": ""
    }
   },
   "outputs": [
    {
     "output_type": "display_data",
     "data": {
      "text/html": [
       "<style scoped>\n",
       "  .table-result-container {\n",
       "    max-height: 300px;\n",
       "    overflow: auto;\n",
       "  }\n",
       "  table, th, td {\n",
       "    border: 1px solid black;\n",
       "    border-collapse: collapse;\n",
       "  }\n",
       "  th, td {\n",
       "    padding: 5px;\n",
       "  }\n",
       "  th {\n",
       "    text-align: left;\n",
       "  }\n",
       "</style><div class='table-result-container'><table class='table-result'><thead style='background-color: white'><tr><th>season_year</th><th>PLAYER_ID</th><th>PLAYER_NAME</th><th>PLAYER_TEAM</th><th>WKTS</th><th>MAT</th><th>INNS</th><th>OV</th><th>RUNS</th><th>BBI</th><th>AVG</th><th>ECON</th><th>SR</th><th>4W</th><th>5W</th></tr></thead><tbody><tr><td>2008</td><td>102</td><td>Sohail Tanvir</td><td>RR</td><td>22</td><td>11</td><td>11</td><td>42</td><td>266</td><td>6/14</td><td>12.09</td><td>6.33</td><td>11.45</td><td>1</td><td>1</td></tr><tr><td>2008</td><td>38</td><td>SK Warne</td><td>RR</td><td>19</td><td>15</td><td>15</td><td>52</td><td>404</td><td>4/21</td><td>21.26</td><td>7.77</td><td>16.42</td><td>0</td><td>0</td></tr><tr><td>2008</td><td>77</td><td>S Sreesanth</td><td>KXP</td><td>19</td><td>15</td><td>15</td><td>52</td><td>442</td><td>3/29</td><td>23.26</td><td>8.5</td><td>16.42</td><td>0</td><td>0</td></tr><tr><td>2008</td><td>67</td><td>PP Chawla</td><td>KXP</td><td>17</td><td>15</td><td>15</td><td>47</td><td>389</td><td>4/17</td><td>22.88</td><td>8.28</td><td>16.59</td><td>0</td><td>0</td></tr><tr><td>2008</td><td>109</td><td>JA Morkel</td><td>CSK</td><td>17</td><td>13</td><td>13</td><td>48</td><td>399</td><td>4/32</td><td>23.47</td><td>8.31</td><td>16.94</td><td>1</td><td>0</td></tr></tbody></table></div>"
      ]
     },
     "metadata": {
      "application/vnd.databricks.v1+output": {
       "addedWidgets": {},
       "aggData": [],
       "aggError": "",
       "aggOverflow": false,
       "aggSchema": [],
       "aggSeriesLimitReached": false,
       "aggType": "",
       "arguments": {},
       "columnCustomDisplayInfos": {},
       "data": [
        [
         2008,
         102,
         "Sohail Tanvir",
         "RR",
         22,
         11,
         11,
         42,
         266,
         "6/14",
         12.09,
         6.33,
         11.45,
         1,
         1
        ],
        [
         2008,
         38,
         "SK Warne",
         "RR",
         19,
         15,
         15,
         52,
         404,
         "4/21",
         21.26,
         7.77,
         16.42,
         0,
         0
        ],
        [
         2008,
         77,
         "S Sreesanth",
         "KXP",
         19,
         15,
         15,
         52,
         442,
         "3/29",
         23.26,
         8.5,
         16.42,
         0,
         0
        ],
        [
         2008,
         67,
         "PP Chawla",
         "KXP",
         17,
         15,
         15,
         47,
         389,
         "4/17",
         22.88,
         8.28,
         16.59,
         0,
         0
        ],
        [
         2008,
         109,
         "JA Morkel",
         "CSK",
         17,
         13,
         13,
         48,
         399,
         "4/32",
         23.47,
         8.31,
         16.94,
         1,
         0
        ]
       ],
       "datasetInfos": [],
       "dbfsResultPath": null,
       "isJsonSchema": true,
       "metadata": {},
       "overflow": false,
       "plotOptions": {
        "customPlotOptions": {},
        "displayType": "table",
        "pivotAggregation": null,
        "pivotColumns": null,
        "xColumns": null,
        "yColumns": null
       },
       "removedWidgets": [],
       "schema": [
        {
         "metadata": "{}",
         "name": "season_year",
         "type": "\"integer\""
        },
        {
         "metadata": "{}",
         "name": "PLAYER_ID",
         "type": "\"integer\""
        },
        {
         "metadata": "{}",
         "name": "PLAYER_NAME",
         "type": "\"string\""
        },
        {
         "metadata": "{}",
         "name": "PLAYER_TEAM",
         "type": "\"string\""
        },
        {
         "metadata": "{}",
         "name": "WKTS",
         "type": "\"long\""
        },
        {
         "metadata": "{}",
         "name": "MAT",
         "type": "\"long\""
        },
        {
         "metadata": "{}",
         "name": "INNS",
         "type": "\"long\""
        },
        {
         "metadata": "{}",
         "name": "OV",
         "type": "\"long\""
        },
        {
         "metadata": "{}",
         "name": "RUNS",
         "type": "\"long\""
        },
        {
         "metadata": "{}",
         "name": "BBI",
         "type": "\"string\""
        },
        {
         "metadata": "{}",
         "name": "AVG",
         "type": "\"double\""
        },
        {
         "metadata": "{}",
         "name": "ECON",
         "type": "\"double\""
        },
        {
         "metadata": "{}",
         "name": "SR",
         "type": "\"double\""
        },
        {
         "metadata": "{}",
         "name": "4W",
         "type": "\"long\""
        },
        {
         "metadata": "{}",
         "name": "5W",
         "type": "\"long\""
        }
       ],
       "type": "table"
      }
     },
     "output_type": "display_data"
    }
   ],
   "source": [
    "%sql \n",
    "select * from purple_cap where season_year=2008 order by WKTS desc limit 5;"
   ]
  },
  {
   "cell_type": "code",
   "execution_count": 0,
   "metadata": {
    "application/vnd.databricks.v1+cell": {
     "cellMetadata": {
      "byteLimit": 2048000,
      "implicitDf": true,
      "rowLimit": 10000
     },
     "inputWidgets": {},
     "nuid": "f321c088-3d86-47d3-b556-fbbb739c032a",
     "showTitle": false,
     "tableResultSettingsMap": {},
     "title": ""
    }
   },
   "outputs": [
    {
     "output_type": "display_data",
     "data": {
      "text/html": [
       "<style scoped>\n",
       "  .table-result-container {\n",
       "    max-height: 300px;\n",
       "    overflow: auto;\n",
       "  }\n",
       "  table, th, td {\n",
       "    border: 1px solid black;\n",
       "    border-collapse: collapse;\n",
       "  }\n",
       "  th, td {\n",
       "    padding: 5px;\n",
       "  }\n",
       "  th {\n",
       "    text-align: left;\n",
       "  }\n",
       "</style><div class='table-result-container'><table class='table-result'><thead style='background-color: white'><tr><th>season_year</th><th>PLAYER</th><th>player_name</th><th>player_team</th><th>RUNS</th><th>MAT</th><th>INNS</th><th>NO</th><th>HS</th><th>AVG</th><th>BF</th><th>SR</th><th>100</th><th>50</th><th>4S</th><th>6S</th></tr></thead><tbody><tr><td>2008</td><td>100</td><td>SE Marsh</td><td>KXP</td><td>616</td><td>11</td><td>11</td><td>2</td><td>115</td><td>68.44</td><td>441</td><td>139.68</td><td>1</td><td>5</td><td>59</td><td>26</td></tr><tr><td>2008</td><td>40</td><td>G Gambhir</td><td>DD</td><td>534</td><td>14</td><td>14</td><td>1</td><td>86</td><td>41.08</td><td>379</td><td>140.90</td><td>0</td><td>5</td><td>68</td><td>8</td></tr><tr><td>2008</td><td>44</td><td>ST Jayasuriya</td><td>MI</td><td>514</td><td>14</td><td>14</td><td>2</td><td>114</td><td>42.83</td><td>309</td><td>166.34</td><td>1</td><td>2</td><td>57</td><td>31</td></tr><tr><td>2008</td><td>32</td><td>SR Watson</td><td>RR</td><td>468</td><td>15</td><td>15</td><td>5</td><td>76</td><td>46.80</td><td>311</td><td>150.48</td><td>0</td><td>4</td><td>46</td><td>19</td></tr><tr><td>2008</td><td>74</td><td>GC Smith</td><td>RR</td><td>441</td><td>11</td><td>11</td><td>2</td><td>91</td><td>49.00</td><td>361</td><td>122.16</td><td>0</td><td>3</td><td>54</td><td>8</td></tr></tbody></table></div>"
      ]
     },
     "metadata": {
      "application/vnd.databricks.v1+output": {
       "addedWidgets": {},
       "aggData": [],
       "aggError": "",
       "aggOverflow": false,
       "aggSchema": [],
       "aggSeriesLimitReached": false,
       "aggType": "",
       "arguments": {},
       "columnCustomDisplayInfos": {},
       "data": [
        [
         2008,
         100,
         "SE Marsh",
         "KXP",
         616,
         11,
         11,
         2,
         115,
         "68.44",
         441,
         "139.68",
         1,
         5,
         59,
         26
        ],
        [
         2008,
         40,
         "G Gambhir",
         "DD",
         534,
         14,
         14,
         1,
         86,
         "41.08",
         379,
         "140.90",
         0,
         5,
         68,
         8
        ],
        [
         2008,
         44,
         "ST Jayasuriya",
         "MI",
         514,
         14,
         14,
         2,
         114,
         "42.83",
         309,
         "166.34",
         1,
         2,
         57,
         31
        ],
        [
         2008,
         32,
         "SR Watson",
         "RR",
         468,
         15,
         15,
         5,
         76,
         "46.80",
         311,
         "150.48",
         0,
         4,
         46,
         19
        ],
        [
         2008,
         74,
         "GC Smith",
         "RR",
         441,
         11,
         11,
         2,
         91,
         "49.00",
         361,
         "122.16",
         0,
         3,
         54,
         8
        ]
       ],
       "datasetInfos": [],
       "dbfsResultPath": null,
       "isJsonSchema": true,
       "metadata": {},
       "overflow": false,
       "plotOptions": {
        "customPlotOptions": {},
        "displayType": "table",
        "pivotAggregation": null,
        "pivotColumns": null,
        "xColumns": null,
        "yColumns": null
       },
       "removedWidgets": [],
       "schema": [
        {
         "metadata": "{}",
         "name": "season_year",
         "type": "\"integer\""
        },
        {
         "metadata": "{}",
         "name": "PLAYER",
         "type": "\"integer\""
        },
        {
         "metadata": "{}",
         "name": "player_name",
         "type": "\"string\""
        },
        {
         "metadata": "{}",
         "name": "player_team",
         "type": "\"string\""
        },
        {
         "metadata": "{}",
         "name": "RUNS",
         "type": "\"long\""
        },
        {
         "metadata": "{}",
         "name": "MAT",
         "type": "\"long\""
        },
        {
         "metadata": "{}",
         "name": "INNS",
         "type": "\"long\""
        },
        {
         "metadata": "{}",
         "name": "NO",
         "type": "\"long\""
        },
        {
         "metadata": "{}",
         "name": "HS",
         "type": "\"long\""
        },
        {
         "metadata": "{}",
         "name": "AVG",
         "type": "\"decimal(13,2)\""
        },
        {
         "metadata": "{}",
         "name": "BF",
         "type": "\"long\""
        },
        {
         "metadata": "{}",
         "name": "SR",
         "type": "\"decimal(17,2)\""
        },
        {
         "metadata": "{}",
         "name": "100",
         "type": "\"long\""
        },
        {
         "metadata": "{}",
         "name": "50",
         "type": "\"long\""
        },
        {
         "metadata": "{}",
         "name": "4S",
         "type": "\"long\""
        },
        {
         "metadata": "{}",
         "name": "6S",
         "type": "\"long\""
        }
       ],
       "type": "table"
      }
     },
     "output_type": "display_data"
    }
   ],
   "source": [
    "%sql\n",
    "select * from ORANGE_CAP where season_year=2008 limit 5;"
   ]
  },
  {
   "cell_type": "code",
   "execution_count": 0,
   "metadata": {
    "application/vnd.databricks.v1+cell": {
     "cellMetadata": {
      "byteLimit": 2048000,
      "implicitDf": true,
      "rowLimit": 10000
     },
     "inputWidgets": {},
     "nuid": "5df3ff2c-89f3-4791-b58e-f148db8c1938",
     "showTitle": false,
     "tableResultSettingsMap": {},
     "title": ""
    }
   },
   "outputs": [
    {
     "output_type": "display_data",
     "data": {
      "text/html": [
       "<style scoped>\n",
       "  .table-result-container {\n",
       "    max-height: 300px;\n",
       "    overflow: auto;\n",
       "  }\n",
       "  table, th, td {\n",
       "    border: 1px solid black;\n",
       "    border-collapse: collapse;\n",
       "  }\n",
       "  th, td {\n",
       "    padding: 5px;\n",
       "  }\n",
       "  th {\n",
       "    text-align: left;\n",
       "  }\n",
       "</style><div class='table-result-container'><table class='table-result'><thead style='background-color: white'><tr><th>season_year</th><th>player_id</th><th>player_name</th><th>player_team</th><th>HAT_TRICKS</th><th>mat</th><th>inns</th><th>ov</th><th>runs</th><th>wkts</th><th>avg</th><th>sr</th><th>4W</th><th>5W</th></tr></thead><tbody><tr><td>2008</td><td>136</td><td>A Mishra</td><td>DD</td><td>1</td><td>6</td><td>6</td><td>20</td><td>138</td><td>11</td><td>12.55</td><td>10.91</td><td>0</td><td>1</td></tr><tr><td>2008</td><td>151</td><td>L Balaji</td><td>CSK</td><td>1</td><td>9</td><td>9</td><td>33</td><td>286</td><td>11</td><td>26.0</td><td>18.0</td><td>0</td><td>1</td></tr><tr><td>2008</td><td>122</td><td>M Ntini</td><td>CSK</td><td>1</td><td>9</td><td>9</td><td>35</td><td>242</td><td>7</td><td>34.57</td><td>30.0</td><td>1</td><td>0</td></tr><tr><td>2017</td><td>452</td><td>S Badree</td><td>RCB</td><td>1</td><td>7</td><td>7</td><td>25</td><td>188</td><td>9</td><td>20.89</td><td>16.67</td><td>1</td><td>0</td></tr><tr><td>2017</td><td>471</td><td>AJ Tye</td><td>GL</td><td>1</td><td>6</td><td>6</td><td>21</td><td>141</td><td>12</td><td>11.75</td><td>10.5</td><td>0</td><td>1</td></tr><tr><td>2017</td><td>346</td><td>JD Unadkat</td><td>RPS</td><td>1</td><td>12</td><td>12</td><td>46</td><td>322</td><td>24</td><td>13.42</td><td>11.5</td><td>0</td><td>1</td></tr><tr><td>2014</td><td>370</td><td>PV Tambe</td><td>RR</td><td>1</td><td>13</td><td>13</td><td>49</td><td>356</td><td>15</td><td>23.73</td><td>19.6</td><td>1</td><td>0</td></tr><tr><td>2014</td><td>32</td><td>SR Watson</td><td>RR</td><td>1</td><td>13</td><td>9</td><td>21</td><td>165</td><td>7</td><td>23.57</td><td>18.0</td><td>0</td><td>0</td></tr><tr><td>2013</td><td>136</td><td>A Mishra</td><td>SH</td><td>1</td><td>17</td><td>17</td><td>62</td><td>394</td><td>21</td><td>18.76</td><td>17.71</td><td>1</td><td>0</td></tr><tr><td>2013</td><td>315</td><td>SP Narine</td><td>KKR</td><td>1</td><td>16</td><td>16</td><td>64</td><td>350</td><td>22</td><td>15.91</td><td>17.45</td><td>2</td><td>0</td></tr><tr><td>2009</td><td>57</td><td>RG Sharma</td><td>DC</td><td>1</td><td>16</td><td>12</td><td>23</td><td>161</td><td>11</td><td>14.64</td><td>12.55</td><td>1</td><td>0</td></tr><tr><td>2009</td><td>27</td><td>Yuvraj Singh</td><td>KXP</td><td>2</td><td>14</td><td>9</td><td>20</td><td>142</td><td>6</td><td>23.67</td><td>20.0</td><td>0</td><td>0</td></tr><tr><td>2012</td><td>335</td><td>A Chandila</td><td>RR</td><td>1</td><td>4</td><td>4</td><td>14</td><td>86</td><td>5</td><td>17.2</td><td>16.8</td><td>1</td><td>0</td></tr><tr><td>2016</td><td>374</td><td>AR Patel</td><td>KXP</td><td>1</td><td>14</td><td>14</td><td>48</td><td>388</td><td>13</td><td>29.85</td><td>22.15</td><td>1</td><td>0</td></tr><tr><td>2011</td><td>136</td><td>A Mishra</td><td>DC</td><td>1</td><td>14</td><td>14</td><td>54</td><td>358</td><td>19</td><td>18.84</td><td>17.05</td><td>1</td><td>0</td></tr><tr><td>2010</td><td>14</td><td>P Kumar</td><td>RCB</td><td>1</td><td>12</td><td>12</td><td>45</td><td>380</td><td>10</td><td>38.0</td><td>27.0</td><td>0</td><td>0</td></tr></tbody></table></div>"
      ]
     },
     "metadata": {
      "application/vnd.databricks.v1+output": {
       "addedWidgets": {},
       "aggData": [],
       "aggError": "",
       "aggOverflow": false,
       "aggSchema": [],
       "aggSeriesLimitReached": false,
       "aggType": "",
       "arguments": {},
       "columnCustomDisplayInfos": {},
       "data": [
        [
         2008,
         136,
         "A Mishra",
         "DD",
         1,
         6,
         6,
         20,
         138,
         11,
         12.55,
         10.91,
         0,
         1
        ],
        [
         2008,
         151,
         "L Balaji",
         "CSK",
         1,
         9,
         9,
         33,
         286,
         11,
         26.0,
         18.0,
         0,
         1
        ],
        [
         2008,
         122,
         "M Ntini",
         "CSK",
         1,
         9,
         9,
         35,
         242,
         7,
         34.57,
         30.0,
         1,
         0
        ],
        [
         2017,
         452,
         "S Badree",
         "RCB",
         1,
         7,
         7,
         25,
         188,
         9,
         20.89,
         16.67,
         1,
         0
        ],
        [
         2017,
         471,
         "AJ Tye",
         "GL",
         1,
         6,
         6,
         21,
         141,
         12,
         11.75,
         10.5,
         0,
         1
        ],
        [
         2017,
         346,
         "JD Unadkat",
         "RPS",
         1,
         12,
         12,
         46,
         322,
         24,
         13.42,
         11.5,
         0,
         1
        ],
        [
         2014,
         370,
         "PV Tambe",
         "RR",
         1,
         13,
         13,
         49,
         356,
         15,
         23.73,
         19.6,
         1,
         0
        ],
        [
         2014,
         32,
         "SR Watson",
         "RR",
         1,
         13,
         9,
         21,
         165,
         7,
         23.57,
         18.0,
         0,
         0
        ],
        [
         2013,
         136,
         "A Mishra",
         "SH",
         1,
         17,
         17,
         62,
         394,
         21,
         18.76,
         17.71,
         1,
         0
        ],
        [
         2013,
         315,
         "SP Narine",
         "KKR",
         1,
         16,
         16,
         64,
         350,
         22,
         15.91,
         17.45,
         2,
         0
        ],
        [
         2009,
         57,
         "RG Sharma",
         "DC",
         1,
         16,
         12,
         23,
         161,
         11,
         14.64,
         12.55,
         1,
         0
        ],
        [
         2009,
         27,
         "Yuvraj Singh",
         "KXP",
         2,
         14,
         9,
         20,
         142,
         6,
         23.67,
         20.0,
         0,
         0
        ],
        [
         2012,
         335,
         "A Chandila",
         "RR",
         1,
         4,
         4,
         14,
         86,
         5,
         17.2,
         16.8,
         1,
         0
        ],
        [
         2016,
         374,
         "AR Patel",
         "KXP",
         1,
         14,
         14,
         48,
         388,
         13,
         29.85,
         22.15,
         1,
         0
        ],
        [
         2011,
         136,
         "A Mishra",
         "DC",
         1,
         14,
         14,
         54,
         358,
         19,
         18.84,
         17.05,
         1,
         0
        ],
        [
         2010,
         14,
         "P Kumar",
         "RCB",
         1,
         12,
         12,
         45,
         380,
         10,
         38.0,
         27.0,
         0,
         0
        ]
       ],
       "datasetInfos": [],
       "dbfsResultPath": null,
       "isJsonSchema": true,
       "metadata": {},
       "overflow": false,
       "plotOptions": {
        "customPlotOptions": {},
        "displayType": "table",
        "pivotAggregation": null,
        "pivotColumns": null,
        "xColumns": null,
        "yColumns": null
       },
       "removedWidgets": [],
       "schema": [
        {
         "metadata": "{}",
         "name": "season_year",
         "type": "\"integer\""
        },
        {
         "metadata": "{}",
         "name": "player_id",
         "type": "\"integer\""
        },
        {
         "metadata": "{}",
         "name": "player_name",
         "type": "\"string\""
        },
        {
         "metadata": "{}",
         "name": "player_team",
         "type": "\"string\""
        },
        {
         "metadata": "{}",
         "name": "HAT_TRICKS",
         "type": "\"long\""
        },
        {
         "metadata": "{}",
         "name": "mat",
         "type": "\"long\""
        },
        {
         "metadata": "{}",
         "name": "inns",
         "type": "\"long\""
        },
        {
         "metadata": "{}",
         "name": "ov",
         "type": "\"long\""
        },
        {
         "metadata": "{}",
         "name": "runs",
         "type": "\"long\""
        },
        {
         "metadata": "{}",
         "name": "wkts",
         "type": "\"long\""
        },
        {
         "metadata": "{}",
         "name": "avg",
         "type": "\"double\""
        },
        {
         "metadata": "{}",
         "name": "sr",
         "type": "\"double\""
        },
        {
         "metadata": "{}",
         "name": "4W",
         "type": "\"long\""
        },
        {
         "metadata": "{}",
         "name": "5W",
         "type": "\"long\""
        }
       ],
       "type": "table"
      }
     },
     "output_type": "display_data"
    }
   ],
   "source": [
    "%sql\n",
    "select * from hatricks"
   ]
  }
 ],
 "metadata": {
  "application/vnd.databricks.v1+notebook": {
   "dashboards": [],
   "environmentMetadata": null,
   "language": "python",
   "notebookMetadata": {
    "mostRecentlyExecutedCommandWithImplicitDF": {
     "commandId": 3045803298173802,
     "dataframes": [
      "_sqldf"
     ]
    },
    "pythonIndentUnit": 4
   },
   "notebookName": "IPL Data Analysis- Read from Gold Layer",
   "widgets": {}
  }
 },
 "nbformat": 4,
 "nbformat_minor": 0
}
