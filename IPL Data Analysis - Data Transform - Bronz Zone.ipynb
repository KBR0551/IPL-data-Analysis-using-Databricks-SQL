{
 "cells": [
  {
   "cell_type": "markdown",
   "metadata": {
    "application/vnd.databricks.v1+cell": {
     "cellMetadata": {
      "byteLimit": 2048000,
      "rowLimit": 10000
     },
     "inputWidgets": {},
     "nuid": "44489bed-e513-4c6d-bac3-71fd1501f57d",
     "showTitle": false,
     "tableResultSettingsMap": {},
     "title": ""
    }
   },
   "source": [
    "\n",
    "step 1: \n",
    "Read files from Bronze and enforce schema and save as delta tables in silver layer, do some sanity checks, pattiton the file\n",
    "\n",
    "Read schema from json files\n",
    "\n",
    "Step 2: \n",
    "Ready Silver layer tables and to agg's and store data in gold layer for reading.\n",
    "\n",
    "\n"
   ]
  },
  {
   "cell_type": "code",
   "execution_count": 0,
   "metadata": {
    "application/vnd.databricks.v1+cell": {
     "cellMetadata": {
      "byteLimit": 2048000,
      "rowLimit": 10000
     },
     "inputWidgets": {},
     "nuid": "25b59203-ef7e-45c0-89ee-e36267a6856e",
     "showTitle": false,
     "tableResultSettingsMap": {},
     "title": ""
    }
   },
   "outputs": [
    {
     "output_type": "display_data",
     "data": {
      "text/html": [
       "<style scoped>\n",
       "  .table-result-container {\n",
       "    max-height: 300px;\n",
       "    overflow: auto;\n",
       "  }\n",
       "  table, th, td {\n",
       "    border: 1px solid black;\n",
       "    border-collapse: collapse;\n",
       "  }\n",
       "  th, td {\n",
       "    padding: 5px;\n",
       "  }\n",
       "  th {\n",
       "    text-align: left;\n",
       "  }\n",
       "</style><div class='table-result-container'><table class='table-result'><thead style='background-color: white'><tr><th>path</th><th>name</th><th>size</th><th>modificationTime</th></tr></thead><tbody><tr><td>dbfs:/FileStore/shared_uploads/bkdevde@yahoo.com/raw/Ball_By_Ball.csv</td><td>Ball_By_Ball.csv</td><td>24816834</td><td>1718995658000</td></tr><tr><td>dbfs:/FileStore/shared_uploads/bkdevde@yahoo.com/raw/Match.csv</td><td>Match.csv</td><td>114194</td><td>1718998673000</td></tr><tr><td>dbfs:/FileStore/shared_uploads/bkdevde@yahoo.com/raw/Player.csv</td><td>Player.csv</td><td>35160</td><td>1718995940000</td></tr><tr><td>dbfs:/FileStore/shared_uploads/bkdevde@yahoo.com/raw/Player_match.csv</td><td>Player_match.csv</td><td>2633931</td><td>1727974988000</td></tr><tr><td>dbfs:/FileStore/shared_uploads/bkdevde@yahoo.com/raw/Team.csv</td><td>Team.csv</td><td>341</td><td>1718995653000</td></tr></tbody></table></div>"
      ]
     },
     "metadata": {
      "application/vnd.databricks.v1+output": {
       "addedWidgets": {},
       "aggData": [],
       "aggError": "",
       "aggOverflow": false,
       "aggSchema": [],
       "aggSeriesLimitReached": false,
       "aggType": "",
       "arguments": {},
       "columnCustomDisplayInfos": {},
       "data": [
        [
         "dbfs:/FileStore/shared_uploads/bkdevde@yahoo.com/raw/Ball_By_Ball.csv",
         "Ball_By_Ball.csv",
         24816834,
         1718995658000
        ],
        [
         "dbfs:/FileStore/shared_uploads/bkdevde@yahoo.com/raw/Match.csv",
         "Match.csv",
         114194,
         1718998673000
        ],
        [
         "dbfs:/FileStore/shared_uploads/bkdevde@yahoo.com/raw/Player.csv",
         "Player.csv",
         35160,
         1718995940000
        ],
        [
         "dbfs:/FileStore/shared_uploads/bkdevde@yahoo.com/raw/Player_match.csv",
         "Player_match.csv",
         2633931,
         1727974988000
        ],
        [
         "dbfs:/FileStore/shared_uploads/bkdevde@yahoo.com/raw/Team.csv",
         "Team.csv",
         341,
         1718995653000
        ]
       ],
       "datasetInfos": [],
       "dbfsResultPath": null,
       "isJsonSchema": true,
       "metadata": {
        "isDbfsCommandResult": false
       },
       "overflow": false,
       "plotOptions": {
        "customPlotOptions": {},
        "displayType": "table",
        "pivotAggregation": null,
        "pivotColumns": null,
        "xColumns": null,
        "yColumns": null
       },
       "removedWidgets": [],
       "schema": [
        {
         "metadata": "{}",
         "name": "path",
         "type": "\"string\""
        },
        {
         "metadata": "{}",
         "name": "name",
         "type": "\"string\""
        },
        {
         "metadata": "{}",
         "name": "size",
         "type": "\"long\""
        },
        {
         "metadata": "{}",
         "name": "modificationTime",
         "type": "\"long\""
        }
       ],
       "type": "table"
      }
     },
     "output_type": "display_data"
    }
   ],
   "source": [
    "%fs ls /FileStore/shared_uploads/bkdevde@yahoo.com/raw/"
   ]
  },
  {
   "cell_type": "code",
   "execution_count": 0,
   "metadata": {
    "application/vnd.databricks.v1+cell": {
     "cellMetadata": {
      "byteLimit": 2048000,
      "rowLimit": 10000
     },
     "inputWidgets": {},
     "nuid": "01e7aa76-a871-40ad-8b0d-f1b77b968b46",
     "showTitle": false,
     "tableResultSettingsMap": {},
     "title": ""
    }
   },
   "outputs": [
    {
     "output_type": "stream",
     "name": "stdout",
     "output_type": "stream",
     "text": [
      "Out[1]: True"
     ]
    }
   ],
   "source": [
    "dbutils.fs.rm('dbfs:/FileStore/shared_uploads/bkdevde@yahoo.com/raw/Player_match.csv')"
   ]
  },
  {
   "cell_type": "code",
   "execution_count": 0,
   "metadata": {
    "application/vnd.databricks.v1+cell": {
     "cellMetadata": {
      "byteLimit": 2048000,
      "rowLimit": 10000
     },
     "inputWidgets": {},
     "nuid": "bb926d6c-e837-4c37-b7e3-ee2f33409c4f",
     "showTitle": false,
     "tableResultSettingsMap": {},
     "title": ""
    }
   },
   "outputs": [],
   "source": [
    "from pyspark.sql import SparkSession\n",
    "from pyspark.sql.types import StructType, StructField, IntegerType, StringType, DateType,DecimalType\n",
    "import json\n",
    "\n",
    "\n",
    "# Initialize SparkSession\n",
    "spark = SparkSession.builder.appName(\"IPL_Orange_Cap_Stats\").getOrCreate()\n",
    "\n",
    "\n",
    "#schema's\n",
    "ball_by_ball_stats_schema = StructType([\n",
    "    StructField(\"Match_id\", IntegerType(), False),\n",
    "    StructField(\"Over_id\", IntegerType(), True),\n",
    "    StructField(\"Ball_id\", IntegerType(), True),\n",
    "    StructField(\"Innings_No\", IntegerType(), True),\n",
    "    StructField(\"Team_Batting\", IntegerType(), True),\n",
    "    StructField(\"Team_Bowling\", IntegerType(), True),\n",
    "    StructField(\"Striker_Batting_Position\", IntegerType(), True),\n",
    "    StructField(\"Extra_Type\", StringType(), True),\n",
    "    StructField(\"Runs_Scored\", IntegerType(), True),\n",
    "    StructField(\"Extra_runs\", IntegerType(), True),\n",
    "    StructField(\"Wides\", IntegerType(), True),\n",
    "    StructField(\"Legbyes\", IntegerType(), True),\n",
    "    StructField(\"Byes\", IntegerType(), True),\n",
    "    StructField(\"Noballs\", IntegerType(), True),\n",
    "    StructField(\"Penalty\", IntegerType(), True),\n",
    "    StructField(\"Bowler_Extras\", IntegerType(), True),\n",
    "    StructField(\"Out_type\", StringType(), True),\n",
    "    StructField(\"Caught\", IntegerType(), True),\n",
    "    StructField(\"Bowled\", IntegerType(), True),\n",
    "    StructField(\"Run_out\", IntegerType(), True),\n",
    "    StructField(\"LBW\", IntegerType(), True),\n",
    "    StructField(\"Retired_hurt\", IntegerType(), True),\n",
    "    StructField(\"Stumped\", IntegerType(), True),\n",
    "    StructField(\"caught_and_bowled\", IntegerType(), True),\n",
    "    StructField(\"hit_wicket\", IntegerType(), True),\n",
    "    StructField(\"ObstructingFeild\", IntegerType(), True),\n",
    "    StructField(\"Bowler_Wicket\", IntegerType(), True),\n",
    "    StructField(\"Match_Date\", DateType(), True),\n",
    "    StructField(\"Season\", IntegerType(), True),\n",
    "    StructField(\"Striker\", IntegerType(), True),\n",
    "    StructField(\"Non_Striker\", IntegerType(), True),\n",
    "    StructField(\"Bowler\", IntegerType(), True),\n",
    "    StructField(\"Player_Out\", IntegerType(), True),\n",
    "    StructField(\"Fielders\", IntegerType(), True),\n",
    "    StructField(\"Striker_match_SK\", IntegerType(), True),\n",
    "    StructField(\"StrikerSK\", IntegerType(), True),\n",
    "    StructField(\"NonStriker_match_SK\", IntegerType(), True),\n",
    "    StructField(\"NONStriker_SK\", IntegerType(), True),\n",
    "    StructField(\"Fielder_match_SK\", IntegerType(), True),\n",
    "    StructField(\"Fielder_SK\", IntegerType(), True),\n",
    "    StructField(\"Bowler_match_SK\", IntegerType(), True),\n",
    "    StructField(\"BOWLER_SK\", IntegerType(), True),\n",
    "    StructField(\"PlayerOut_match_SK\", IntegerType(), True),\n",
    "    StructField(\"BattingTeam_SK\", IntegerType(), True),\n",
    "    StructField(\"BowlingTeam_SK\", IntegerType(), True),\n",
    "    StructField(\"Keeper_Catch\", IntegerType(), True),\n",
    "    StructField(\"Player_out_sk\", IntegerType(), True),\n",
    "    StructField(\"MatchDateSK\", IntegerType(), True)  # Changed type from DATA to IntegerType\n",
    "])\n",
    "\n",
    "player_match_schema= StructType([\n",
    "    StructField(\"Player_match_SK\", IntegerType(), False),\n",
    "    StructField(\"PlayerMatch_key\", DecimalType(20, 0), False),  # DECIMAL(20)\n",
    "    StructField(\"Match_Id\", IntegerType(), False),\n",
    "    StructField(\"Player_Id\", IntegerType(), False),\n",
    "    StructField(\"Player_Name\", StringType(), True),  # VARCHAR(255)\n",
    "    StructField(\"DOB\", DateType(), True),  # DATE\n",
    "    StructField(\"Batting_hand\", StringType(), True),  # VARCHAR(50)\n",
    "    StructField(\"Bowling_skill\", StringType(), True),  # VARCHAR(50)\n",
    "    StructField(\"Country_Name\", StringType(), True),  # VARCHAR(100)\n",
    "    StructField(\"Role_Desc\", StringType(), True),  # VARCHAR(100)\n",
    "    StructField(\"Player_team\", StringType(), True),  # VARCHAR(100)\n",
    "    StructField(\"Opposit_Team\", StringType(), True),  # VARCHAR(100)\n",
    "    StructField(\"Season_year\", IntegerType(), True),\n",
    "    StructField(\"is_manofThematch\", IntegerType(), True),\n",
    "    StructField(\"Age_As_on_match\", IntegerType(), True),\n",
    "    StructField(\"IsPlayers_Team_won\", IntegerType(), True),\n",
    "    StructField(\"Batting_Status\", StringType(), True),  # VARCHAR(50)\n",
    "    StructField(\"Bowling_Status\", StringType(), True),  # VARCHAR(50)\n",
    "    StructField(\"Player_Captain\", StringType(), True),  # VARCHAR(50)\n",
    "    StructField(\"Opposit_captain\", StringType(), True),  # VARCHAR(50)\n",
    "    StructField(\"Player_keeper\", StringType(), True),  # VARCHAR(50)\n",
    "    StructField(\"Opposit_keeper\", StringType(), True)  # VARCHAR(50)\n",
    "])\n",
    "\n",
    "players_data_schema = StructType([\n",
    "    StructField(\"PLAYER_SK\", IntegerType(), nullable=True),\n",
    "    StructField(\"Player_Id\", IntegerType(), nullable=True),\n",
    "    StructField(\"Player_Name\", StringType(), nullable=True),\n",
    "    StructField(\"DOB\", DateType(), nullable=True),\n",
    "    StructField(\"Batting_hand\", StringType(), nullable=True),\n",
    "    StructField(\"Bowling_skill\", StringType(), nullable=True),\n",
    "    StructField(\"Country_Name\", StringType(), nullable=True)\n",
    "])\n",
    "\n",
    "\n",
    "match_schema = StructType([\n",
    "    StructField(\"Match_SK\", IntegerType(), nullable=False),\n",
    "    StructField(\"match_id\", IntegerType(), nullable=False),\n",
    "    StructField(\"Team1\", StringType(), nullable=True),\n",
    "    StructField(\"Team2\", StringType(), nullable=True),\n",
    "    StructField(\"match_date\", DateType(), nullable=True),\n",
    "    StructField(\"Season_Year\", IntegerType(), nullable=True),\n",
    "    StructField(\"Venue_Name\", StringType(), nullable=True),\n",
    "    StructField(\"City_Name\", StringType(), nullable=True),\n",
    "    StructField(\"Country_Name\", StringType(), nullable=True),\n",
    "    StructField(\"Toss_Winner\", StringType(), nullable=True),\n",
    "    StructField(\"match_winner\", StringType(), nullable=True),\n",
    "    StructField(\"Toss_Name\", StringType(), nullable=True),\n",
    "    StructField(\"Win_Type\", StringType(), nullable=True),\n",
    "    StructField(\"Outcome_Type\", StringType(), nullable=True),\n",
    "    StructField(\"ManOfMach\", StringType(), nullable=True),\n",
    "    StructField(\"Win_Margin\", IntegerType(), nullable=True),\n",
    "    StructField(\"Country_id\", IntegerType(), nullable=True)\n",
    "])\n",
    "\n",
    "teams_schema = StructType([\n",
    "    StructField(\"team_sk\", IntegerType(), nullable=False),\n",
    "    StructField(\"team_id\", IntegerType(), nullable=False),\n",
    "    StructField(\"team_name\", StringType(), nullable=True)])\n",
    "\n"
   ]
  },
  {
   "cell_type": "code",
   "execution_count": 0,
   "metadata": {
    "application/vnd.databricks.v1+cell": {
     "cellMetadata": {
      "byteLimit": 2048000,
      "rowLimit": 10000
     },
     "inputWidgets": {},
     "nuid": "215ecb81-045d-4355-a71c-41ccaeed9f85",
     "showTitle": false,
     "tableResultSettingsMap": {},
     "title": ""
    }
   },
   "outputs": [
    {
     "output_type": "stream",
     "name": "stdout",
     "output_type": "stream",
     "text": [
      "+---------------+---------------+--------+---------+---------------+----------+--------------+--------------------+------------+---------+--------------------+--------------------+-----------+----------------+---------------+------------------+--------------+--------------+--------------+---------------+-------------+--------------+-----------------------+------------------------+\n|Player_match_SK|PlayerMatch_key|Match_Id|Player_Id|    Player_Name|       DOB|  Batting_hand|       Bowling_skill|Country_Name|Role_Desc|         Player_team|        Opposit_Team|Season_year|is_manofThematch|Age_As_on_match|IsPlayers_Team_won|Batting_Status|Bowling_Status|Player_Captain|Opposit_captain|Player_keeper|Opposit_keeper|player_team_abbrivation|Opposit_Team_abbrivation|\n+---------------+---------------+--------+---------+---------------+----------+--------------+--------------------+------------+---------+--------------------+--------------------+-----------+----------------+---------------+------------------+--------------+--------------+--------------+---------------+-------------+--------------+-----------------------+------------------------+\n|          12694|    33598700006|  335987|        6|       R Dravid|1973-01-11|Right-hand bat|  Right-arm offbreak|       India|  Captain|Royal Challengers...|Kolkata Knight Ri...|       2008|               0|             35|                 0|          null|          null|      R Dravid|     SC Ganguly|   MV Boucher|       WP Saha|                    RCB|                     KKR|\n|          12695|    33598700007|  335987|        7|       W Jaffer|1978-02-16|Right-hand bat|  Right-arm offbreak|       India|   Player|Royal Challengers...|Kolkata Knight Ri...|       2008|               0|             30|                 0|          null|          null|      R Dravid|     SC Ganguly|   MV Boucher|       WP Saha|                    RCB|                     KKR|\n|          12696|    33598700008|  335987|        8|        V Kohli|1988-11-05|Right-hand bat|    Right-arm medium|       India|   Player|Royal Challengers...|Kolkata Knight Ri...|       2008|               0|             20|                 0|          null|          null|      R Dravid|     SC Ganguly|   MV Boucher|       WP Saha|                    RCB|                     KKR|\n|          12697|    33598700009|  335987|        9|      JH Kallis|1975-10-16|Right-hand bat|Right-arm fast-me...|South Africa|   Player|Royal Challengers...|Kolkata Knight Ri...|       2008|               0|             33|                 0|          null|          null|      R Dravid|     SC Ganguly|   MV Boucher|       WP Saha|                    RCB|                     KKR|\n|          12698|    33598700010|  335987|       10|       CL White|1983-08-18|Right-hand bat|     Legbreak googly|   Australia|   Player|Royal Challengers...|Kolkata Knight Ri...|       2008|               0|             25|                 0|          null|          null|      R Dravid|     SC Ganguly|   MV Boucher|       WP Saha|                    RCB|                     KKR|\n|          12699|    33598700011|  335987|       11|     MV Boucher|1976-12-03|Right-hand bat|    Right-arm medium|South Africa|   Keeper|Royal Challengers...|Kolkata Knight Ri...|       2008|               0|             32|                 0|          null|          null|      R Dravid|     SC Ganguly|   MV Boucher|       WP Saha|                    RCB|                     KKR|\n|          12700|    33598700012|  335987|       12|        B Akhil|1977-10-07|Right-hand bat|Right-arm medium-...|       India|   Player|Royal Challengers...|Kolkata Knight Ri...|       2008|               0|             31|                 0|          null|          null|      R Dravid|     SC Ganguly|   MV Boucher|       WP Saha|                    RCB|                     KKR|\n|          12701|    33598700013|  335987|       13|      AA Noffke|1977-04-30|Right-hand bat|Right-arm fast-me...|   Australia|   Player|Royal Challengers...|Kolkata Knight Ri...|       2008|               0|             31|                 0|          null|          null|      R Dravid|     SC Ganguly|   MV Boucher|       WP Saha|                    RCB|                     KKR|\n|          12702|    33598700014|  335987|       14|        P Kumar|1986-10-02|Right-hand bat|    Right-arm medium|       India|   Player|Royal Challengers...|Kolkata Knight Ri...|       2008|               0|             22|                 0|          null|          null|      R Dravid|     SC Ganguly|   MV Boucher|       WP Saha|                    RCB|                     KKR|\n|          12703|    33598700015|  335987|       15|         Z Khan|1978-10-07|Right-hand bat|Left-arm fast-medium|       India|   Player|Royal Challengers...|Kolkata Knight Ri...|       2008|               0|             30|                 0|          null|          null|      R Dravid|     SC Ganguly|   MV Boucher|       WP Saha|                    RCB|                     KKR|\n|          12704|    33598700016|  335987|       16|       SB Joshi|1970-06-06| Left-hand bat|Slow left-arm ort...|       India|   Player|Royal Challengers...|Kolkata Knight Ri...|       2008|               0|             38|                 0|          null|          null|      R Dravid|     SC Ganguly|   MV Boucher|       WP Saha|                    RCB|                     KKR|\n|          12705|    33598700001|  335987|        1|     SC Ganguly|1972-07-08| Left-hand bat|    Right-arm medium|       India|  Captain|Kolkata Knight Ri...|Royal Challengers...|       2008|               0|             36|                 1|          null|          null|    SC Ganguly|       R Dravid|      WP Saha|    MV Boucher|                    KKR|                     RCB|\n|          12706|    33598700002|  335987|        2|    BB McCullum|1981-09-27|Right-hand bat|    Right-arm medium| New Zealand|   Player|Kolkata Knight Ri...|Royal Challengers...|       2008|               1|             27|                 1|          null|          null|    SC Ganguly|       R Dravid|      WP Saha|    MV Boucher|                    KKR|                     RCB|\n|          12707|    33598700003|  335987|        3|     RT Ponting|1974-12-19|Right-hand bat|    Right-arm medium|   Australia|   Player|Kolkata Knight Ri...|Royal Challengers...|       2008|               0|             34|                 1|          null|          null|    SC Ganguly|       R Dravid|      WP Saha|    MV Boucher|                    KKR|                     RCB|\n|          12708|    33598700004|  335987|        4|      DJ Hussey|1977-07-15|Right-hand bat|  Right-arm offbreak|   Australia|   Player|Kolkata Knight Ri...|Royal Challengers...|       2008|               0|             31|                 1|          null|          null|    SC Ganguly|       R Dravid|      WP Saha|    MV Boucher|                    KKR|                     RCB|\n|          12709|    33598700005|  335987|        5|Mohammad Hafeez|1980-10-17|Right-hand bat|  Right-arm offbreak|    Pakistan|   Player|Kolkata Knight Ri...|Royal Challengers...|       2008|               0|             28|                 1|          null|          null|    SC Ganguly|       R Dravid|      WP Saha|    MV Boucher|                    KKR|                     RCB|\n|          12710|    33598700062|  335987|       62|        WP Saha|1984-10-24|Right-hand bat|                NULL|       India|   Keeper|Kolkata Knight Ri...|Royal Challengers...|       2008|               0|             24|                 1|          null|          null|    SC Ganguly|       R Dravid|      WP Saha|    MV Boucher|                    KKR|                     RCB|\n|          12711|    33598700063|  335987|       63|      LR Shukla|1981-05-06|Right-hand bat|    Right-arm medium|       India|   Player|Kolkata Knight Ri...|Royal Challengers...|       2008|               0|             27|                 1|          null|          null|    SC Ganguly|       R Dravid|      WP Saha|    MV Boucher|                    KKR|                     RCB|\n|          12712|    33598700082|  335987|       82|     AB Agarkar|1977-12-04|Right-hand bat|      Right-arm fast|       India|   Player|Kolkata Knight Ri...|Royal Challengers...|       2008|               0|             31|                 1|          null|          null|    SC Ganguly|       R Dravid|      WP Saha|    MV Boucher|                    KKR|                     RCB|\n|          12713|    33598700083|  335987|       83|       M Kartik|1976-09-11| Left-hand bat|Slow left-arm ort...|       India|   Player|Kolkata Knight Ri...|Royal Challengers...|       2008|               0|             32|                 1|          null|          null|    SC Ganguly|       R Dravid|      WP Saha|    MV Boucher|                    KKR|                     RCB|\n+---------------+---------------+--------+---------+---------------+----------+--------------+--------------------+------------+---------+--------------------+--------------------+-----------+----------------+---------------+------------------+--------------+--------------+--------------+---------------+-------------+--------------+-----------------------+------------------------+\nonly showing top 20 rows\n\n"
     ]
    }
   ],
   "source": [
    "# Path to the CSV file's\n",
    "dbfs_raw_file_path = 'dbfs:/FileStore/shared_uploads/bkdevde@yahoo.com/raw/'\n",
    "\n",
    "from pyspark.sql.functions import split, col, expr, concat_ws\n",
    "# Read the CSV file's into a DataFrame\n",
    "\n",
    "\n",
    "\n",
    "ball_by_ball_stats_df = spark.read.csv(dbfs_raw_file_path +'Ball_By_Ball.csv', header=True, schema=ball_by_ball_stats_schema,mode=\"FAILFAST\")\n",
    "\n",
    "player_match_df = spark.read.csv(dbfs_raw_file_path +'Player_match.csv', header=True, schema=player_match_schema,mode=\"FAILFAST\")\n",
    "\n",
    "players_data_df= spark.read.csv(dbfs_raw_file_path +'Player.csv', header=True, schema=players_data_schema,mode=\"FAILFAST\")\n",
    "\n",
    "match_df= spark.read.csv(dbfs_raw_file_path +'Match.csv', header=True, schema=match_schema,mode=\"PERMISSIVE\")\n",
    "\n",
    "teams_df= spark.read.csv(dbfs_raw_file_path +'Team.csv', header=True, schema=teams_schema,mode=\"FAILFAST\")\n",
    "\n",
    "\n",
    "#--------------------------------------  Partition and Write as Delta tables in delta layer ------------------- \n",
    "ball_by_ball_stats_df.write.format(\"delta\").mode(\"overwrite\").option(\"path\", \"/FileStore/shared_uploads/bkdevde@yahoo.com/delta/ball_by_ball_stats\").partitionBy('season').saveAsTable(\"ball_by_ball_stats\")\n",
    "\n",
    "players_data_df.write.format(\"delta\").mode(\"overwrite\").option(\"path\", \"/FileStore/shared_uploads/bkdevde@yahoo.com/delta/players_data\").saveAsTable(\"players_data\")\n",
    "\n",
    "match_df.write.format(\"delta\").mode(\"overwrite\").option(\"path\", \"/FileStore/shared_uploads/bkdevde@yahoo.com/delta/match\").saveAsTable(\"matches\")\n",
    "\n",
    "\n",
    "## Add new fileds\n",
    "teams_df=teams_df.withColumn(\"team_name_abbrivation\",\n",
    "                             expr(\"concat_ws('', transform(split(team_name, ' '),x->substring(x,1,1)))\"))\n",
    "\n",
    "player_match_df=player_match_df.withColumn(\"player_team_abbrivation\",\n",
    "                             expr(\"concat_ws('', transform(split(player_team, ' '),x->substring(x,1,1)))\")).withColumn(\"Opposit_Team_abbrivation\",expr(\"concat_ws('', transform(split(Opposit_Team, ' '),x->substring(x,1,1)))\"))\n",
    "\n",
    "\n",
    "\n",
    "player_match_df.write.format(\"delta\").mode(\"overwrite\").option(\"path\", \"/FileStore/shared_uploads/bkdevde@yahoo.com/delta/player_match\").option(\"mergeSchema\", \"true\").partitionBy(\"season_year\").saveAsTable(\"player_match\")\n",
    "\n",
    "\n",
    "teams_df.write.format(\"delta\").mode(\"overwrite\").option(\"path\", \"/FileStore/shared_uploads/bkdevde@yahoo.com/delta/teams\").option(\"mergeSchema\", \"true\").saveAsTable(\"teams\")\n",
    "\n"
   ]
  },
  {
   "cell_type": "code",
   "execution_count": 0,
   "metadata": {
    "application/vnd.databricks.v1+cell": {
     "cellMetadata": {
      "byteLimit": 2048000,
      "rowLimit": 10000
     },
     "inputWidgets": {},
     "nuid": "6aeb1acd-01eb-4c64-b6e4-6ae4bf03c320",
     "showTitle": false,
     "tableResultSettingsMap": {},
     "title": ""
    }
   },
   "outputs": [
    {
     "output_type": "stream",
     "name": "stdout",
     "output_type": "stream",
     "text": [
      "root\n |-- Match_SK: integer (nullable = true)\n |-- match_id: integer (nullable = true)\n |-- Team1: string (nullable = true)\n |-- Team2: string (nullable = true)\n |-- match_date: date (nullable = true)\n |-- Season_Year: integer (nullable = true)\n |-- Venue_Name: string (nullable = true)\n |-- City_Name: string (nullable = true)\n |-- Country_Name: string (nullable = true)\n |-- Toss_Winner: string (nullable = true)\n |-- match_winner: string (nullable = true)\n |-- Toss_Name: string (nullable = true)\n |-- Win_Type: string (nullable = true)\n |-- Outcome_Type: string (nullable = true)\n |-- ManOfMach: string (nullable = true)\n |-- Win_Margin: integer (nullable = true)\n |-- Country_id: integer (nullable = true)\n\n"
     ]
    }
   ],
   "source": [
    "match_df.printSchema()"
   ]
  },
  {
   "cell_type": "code",
   "execution_count": 0,
   "metadata": {
    "application/vnd.databricks.v1+cell": {
     "cellMetadata": {
      "byteLimit": 2048000,
      "implicitDf": true,
      "rowLimit": 10000
     },
     "inputWidgets": {},
     "nuid": "099811d7-eb32-4b8f-9832-709996e50c22",
     "showTitle": false,
     "tableResultSettingsMap": {},
     "title": ""
    }
   },
   "outputs": [
    {
     "output_type": "display_data",
     "data": {
      "text/html": [
       "<style scoped>\n",
       "  .table-result-container {\n",
       "    max-height: 300px;\n",
       "    overflow: auto;\n",
       "  }\n",
       "  table, th, td {\n",
       "    border: 1px solid black;\n",
       "    border-collapse: collapse;\n",
       "  }\n",
       "  th, td {\n",
       "    padding: 5px;\n",
       "  }\n",
       "  th {\n",
       "    text-align: left;\n",
       "  }\n",
       "</style><div class='table-result-container'><table class='table-result'><thead style='background-color: white'><tr><th>record_count</th></tr></thead><tbody><tr><td>1254</td></tr></tbody></table></div>"
      ]
     },
     "metadata": {
      "application/vnd.databricks.v1+output": {
       "addedWidgets": {},
       "aggData": [],
       "aggError": "",
       "aggOverflow": false,
       "aggSchema": [],
       "aggSeriesLimitReached": false,
       "aggType": "",
       "arguments": {},
       "columnCustomDisplayInfos": {},
       "data": [
        [
         1254
        ]
       ],
       "datasetInfos": [],
       "dbfsResultPath": null,
       "isJsonSchema": true,
       "metadata": {},
       "overflow": false,
       "plotOptions": {
        "customPlotOptions": {},
        "displayType": "table",
        "pivotAggregation": null,
        "pivotColumns": null,
        "xColumns": null,
        "yColumns": null
       },
       "removedWidgets": [],
       "schema": [
        {
         "metadata": "{}",
         "name": "record_count",
         "type": "\"long\""
        }
       ],
       "type": "table"
      }
     },
     "output_type": "display_data"
    }
   ],
   "source": [
    "%sql\n",
    "select COUNT(*) AS record_count FROM delta.`/FileStore/shared_uploads/bkdevde@yahoo.com/delta/player_match` where season_year=2009"
   ]
  },
  {
   "cell_type": "code",
   "execution_count": 0,
   "metadata": {
    "application/vnd.databricks.v1+cell": {
     "cellMetadata": {
      "byteLimit": 2048000,
      "rowLimit": 10000
     },
     "inputWidgets": {},
     "nuid": "c833a62e-2c89-4f58-8a49-32639250fbb2",
     "showTitle": false,
     "tableResultSettingsMap": {},
     "title": ""
    }
   },
   "outputs": [
    {
     "output_type": "display_data",
     "data": {
      "text/html": [
       "<style scoped>\n",
       "  .table-result-container {\n",
       "    max-height: 300px;\n",
       "    overflow: auto;\n",
       "  }\n",
       "  table, th, td {\n",
       "    border: 1px solid black;\n",
       "    border-collapse: collapse;\n",
       "  }\n",
       "  th, td {\n",
       "    padding: 5px;\n",
       "  }\n",
       "  th {\n",
       "    text-align: left;\n",
       "  }\n",
       "</style><div class='table-result-container'><table class='table-result'><thead style='background-color: white'><tr><th>path</th><th>name</th><th>size</th><th>modificationTime</th></tr></thead><tbody><tr><td>dbfs:/FileStore/shared_uploads/bkdevde@yahoo.com/delta/ball_by_ball_stats/</td><td>ball_by_ball_stats/</td><td>0</td><td>0</td></tr><tr><td>dbfs:/FileStore/shared_uploads/bkdevde@yahoo.com/delta/gold/</td><td>gold/</td><td>0</td><td>0</td></tr><tr><td>dbfs:/FileStore/shared_uploads/bkdevde@yahoo.com/delta/match/</td><td>match/</td><td>0</td><td>0</td></tr><tr><td>dbfs:/FileStore/shared_uploads/bkdevde@yahoo.com/delta/player_match/</td><td>player_match/</td><td>0</td><td>0</td></tr><tr><td>dbfs:/FileStore/shared_uploads/bkdevde@yahoo.com/delta/players_data/</td><td>players_data/</td><td>0</td><td>0</td></tr><tr><td>dbfs:/FileStore/shared_uploads/bkdevde@yahoo.com/delta/teams/</td><td>teams/</td><td>0</td><td>0</td></tr></tbody></table></div>"
      ]
     },
     "metadata": {
      "application/vnd.databricks.v1+output": {
       "addedWidgets": {},
       "aggData": [],
       "aggError": "",
       "aggOverflow": false,
       "aggSchema": [],
       "aggSeriesLimitReached": false,
       "aggType": "",
       "arguments": {},
       "columnCustomDisplayInfos": {},
       "data": [
        [
         "dbfs:/FileStore/shared_uploads/bkdevde@yahoo.com/delta/ball_by_ball_stats/",
         "ball_by_ball_stats/",
         0,
         0
        ],
        [
         "dbfs:/FileStore/shared_uploads/bkdevde@yahoo.com/delta/gold/",
         "gold/",
         0,
         0
        ],
        [
         "dbfs:/FileStore/shared_uploads/bkdevde@yahoo.com/delta/match/",
         "match/",
         0,
         0
        ],
        [
         "dbfs:/FileStore/shared_uploads/bkdevde@yahoo.com/delta/player_match/",
         "player_match/",
         0,
         0
        ],
        [
         "dbfs:/FileStore/shared_uploads/bkdevde@yahoo.com/delta/players_data/",
         "players_data/",
         0,
         0
        ],
        [
         "dbfs:/FileStore/shared_uploads/bkdevde@yahoo.com/delta/teams/",
         "teams/",
         0,
         0
        ]
       ],
       "datasetInfos": [],
       "dbfsResultPath": null,
       "isJsonSchema": true,
       "metadata": {
        "isDbfsCommandResult": false
       },
       "overflow": false,
       "plotOptions": {
        "customPlotOptions": {},
        "displayType": "table",
        "pivotAggregation": null,
        "pivotColumns": null,
        "xColumns": null,
        "yColumns": null
       },
       "removedWidgets": [],
       "schema": [
        {
         "metadata": "{}",
         "name": "path",
         "type": "\"string\""
        },
        {
         "metadata": "{}",
         "name": "name",
         "type": "\"string\""
        },
        {
         "metadata": "{}",
         "name": "size",
         "type": "\"long\""
        },
        {
         "metadata": "{}",
         "name": "modificationTime",
         "type": "\"long\""
        }
       ],
       "type": "table"
      }
     },
     "output_type": "display_data"
    }
   ],
   "source": [
    "%fs ls /FileStore/shared_uploads/bkdevde@yahoo.com/delta"
   ]
  }
 ],
 "metadata": {
  "application/vnd.databricks.v1+notebook": {
   "dashboards": [],
   "environmentMetadata": null,
   "language": "python",
   "notebookMetadata": {
    "mostRecentlyExecutedCommandWithImplicitDF": {
     "commandId": 4253314405153205,
     "dataframes": [
      "_sqldf"
     ]
    },
    "pythonIndentUnit": 4
   },
   "notebookName": "IPL Data Analysis - Data Transform - Bronz Zone",
   "widgets": {}
  }
 },
 "nbformat": 4,
 "nbformat_minor": 0
}
