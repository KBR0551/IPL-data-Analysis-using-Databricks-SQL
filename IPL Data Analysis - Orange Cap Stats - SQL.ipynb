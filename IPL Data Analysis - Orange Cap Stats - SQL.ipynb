{
 "cells": [
  {
   "cell_type": "markdown",
   "metadata": {
    "application/vnd.databricks.v1+cell": {
     "cellMetadata": {
      "byteLimit": 2048000,
      "rowLimit": 10000
     },
     "inputWidgets": {},
     "nuid": "15cbf1fa-fdfb-485f-bc3e-c8ea0c8e4782",
     "showTitle": false,
     "tableResultSettingsMap": {},
     "title": ""
    }
   },
   "source": [
    "Load ball_by_ball data into dataframe"
   ]
  },
  {
   "cell_type": "markdown",
   "metadata": {
    "application/vnd.databricks.v1+cell": {
     "cellMetadata": {
      "byteLimit": 2048000,
      "rowLimit": 10000
     },
     "inputWidgets": {},
     "nuid": "b76e8bd9-bfae-44c1-b063-e2e3fa37283c",
     "showTitle": false,
     "tableResultSettingsMap": {},
     "title": ""
    }
   },
   "source": [
    "\n",
    "Read from delta tables from silter and write final Stats reports to gold layer\n",
    "\n",
    "1) dbfs:/FileStore/ipl_data/bronze/ball_by_ball_stats\n",
    "2) dbfs:/FileStore/ipl_data/bronze/matches\n",
    "3) dbfs:/FileStore/ipl_data/bronzeplayer_match\n",
    "4) dbfs:/FileStore/ipl_data/bronze/players_data\n",
    "5) dbfs:/FileStore/ipl_data/bronze/teams"
   ]
  },
  {
   "cell_type": "markdown",
   "metadata": {
    "application/vnd.databricks.v1+cell": {
     "cellMetadata": {
      "byteLimit": 2048000,
      "rowLimit": 10000
     },
     "inputWidgets": {},
     "nuid": "231437dc-ef89-45c5-8416-76ac5428ba9e",
     "showTitle": false,
     "tableResultSettingsMap": {},
     "title": ""
    }
   },
   "source": [
    "We have to create few temporary tables to produce the final reports/stats\n",
    "as listed in the https://www.iplt20.com/stats/2008 we will try for atleast 95% accuracy on this reports as this data is collected from web not from offical IPL website.\n",
    "\n",
    "list of temporary view/table created:\n",
    "1) BATTER_INNS_PLAYED: stages infomation about batsmen's(total_matches_played ,innings_played, not_out innings per each ipl season)\n",
    "\n",
    "2) TOTAL_RUNS_AND_BALLS_FACED: season runs scored and balls faced\n",
    "\n",
    "3) batter_season_highg_scores: batsmen's seasons higest score\n",
    "\n",
    "4) centuries: bastsmen's season centuries \n",
    "\n",
    "5) boundry_count: total batsmen's 4's and 6's for season.\n",
    "\n",
    "6) fastest_fifty_hundred: used to get fastest fifty and hundred runs\n",
    "\n",
    "This will temporary tables will help us create necessary reports\n",
    "\n",
    "There are 13 reports which are related to batsmen's categorised at season level and match level.\n",
    "\n",
    "------------------ Season level stats ----------------\n",
    "1) Orange Cap\n",
    "2) RuPay On-The-Go 4s of the Season\n",
    "3) Angel One Super Sixes of the Season\n",
    "4) Most Fifties\n",
    "5) Most Centuries\n",
    "6) Highest Scores\n",
    "7) Punch.ev Electric Striker of the Season\n",
    "8) Best Batting Averages\n",
    "\n",
    "------------------ Innings level stats ---------------\n",
    "1) Most fours \n",
    "2) Most sixes\n",
    "3) Fastest Fifty\n",
    "4) Fastest Centuries\n",
    "5) Best Batting Strike Rate --- will not do, due to data inaccuracy"
   ]
  },
  {
   "cell_type": "code",
   "execution_count": 0,
   "metadata": {
    "application/vnd.databricks.v1+cell": {
     "cellMetadata": {
      "byteLimit": 2048000,
      "rowLimit": 10000
     },
     "inputWidgets": {},
     "nuid": "ab2cdf7b-b518-48d0-be39-6be6b125a422",
     "showTitle": false,
     "tableResultSettingsMap": {},
     "title": ""
    }
   },
   "outputs": [
    {
     "output_type": "display_data",
     "data": {
      "text/html": [
       "<style scoped>\n",
       "  .table-result-container {\n",
       "    max-height: 300px;\n",
       "    overflow: auto;\n",
       "  }\n",
       "  table, th, td {\n",
       "    border: 1px solid black;\n",
       "    border-collapse: collapse;\n",
       "  }\n",
       "  th, td {\n",
       "    padding: 5px;\n",
       "  }\n",
       "  th {\n",
       "    text-align: left;\n",
       "  }\n",
       "</style><div class='table-result-container'><table class='table-result'><thead style='background-color: white'><tr><th>path</th><th>name</th><th>size</th><th>modificationTime</th></tr></thead><tbody><tr><td>dbfs:/FileStore/ipl_data/silver/player_match/Season_year=2008/</td><td>Season_year=2008/</td><td>0</td><td>0</td></tr><tr><td>dbfs:/FileStore/ipl_data/silver/player_match/Season_year=2009/</td><td>Season_year=2009/</td><td>0</td><td>0</td></tr><tr><td>dbfs:/FileStore/ipl_data/silver/player_match/Season_year=2010/</td><td>Season_year=2010/</td><td>0</td><td>0</td></tr><tr><td>dbfs:/FileStore/ipl_data/silver/player_match/Season_year=2011/</td><td>Season_year=2011/</td><td>0</td><td>0</td></tr><tr><td>dbfs:/FileStore/ipl_data/silver/player_match/Season_year=2012/</td><td>Season_year=2012/</td><td>0</td><td>0</td></tr><tr><td>dbfs:/FileStore/ipl_data/silver/player_match/Season_year=2013/</td><td>Season_year=2013/</td><td>0</td><td>0</td></tr><tr><td>dbfs:/FileStore/ipl_data/silver/player_match/Season_year=2014/</td><td>Season_year=2014/</td><td>0</td><td>0</td></tr><tr><td>dbfs:/FileStore/ipl_data/silver/player_match/Season_year=2015/</td><td>Season_year=2015/</td><td>0</td><td>0</td></tr><tr><td>dbfs:/FileStore/ipl_data/silver/player_match/Season_year=2016/</td><td>Season_year=2016/</td><td>0</td><td>0</td></tr><tr><td>dbfs:/FileStore/ipl_data/silver/player_match/Season_year=2017/</td><td>Season_year=2017/</td><td>0</td><td>0</td></tr><tr><td>dbfs:/FileStore/ipl_data/silver/player_match/_delta_log/</td><td>_delta_log/</td><td>0</td><td>0</td></tr></tbody></table></div>"
      ]
     },
     "metadata": {
      "application/vnd.databricks.v1+output": {
       "addedWidgets": {},
       "aggData": [],
       "aggError": "",
       "aggOverflow": false,
       "aggSchema": [],
       "aggSeriesLimitReached": false,
       "aggType": "",
       "arguments": {},
       "columnCustomDisplayInfos": {},
       "data": [
        [
         "dbfs:/FileStore/ipl_data/silver/player_match/Season_year=2008/",
         "Season_year=2008/",
         0,
         0
        ],
        [
         "dbfs:/FileStore/ipl_data/silver/player_match/Season_year=2009/",
         "Season_year=2009/",
         0,
         0
        ],
        [
         "dbfs:/FileStore/ipl_data/silver/player_match/Season_year=2010/",
         "Season_year=2010/",
         0,
         0
        ],
        [
         "dbfs:/FileStore/ipl_data/silver/player_match/Season_year=2011/",
         "Season_year=2011/",
         0,
         0
        ],
        [
         "dbfs:/FileStore/ipl_data/silver/player_match/Season_year=2012/",
         "Season_year=2012/",
         0,
         0
        ],
        [
         "dbfs:/FileStore/ipl_data/silver/player_match/Season_year=2013/",
         "Season_year=2013/",
         0,
         0
        ],
        [
         "dbfs:/FileStore/ipl_data/silver/player_match/Season_year=2014/",
         "Season_year=2014/",
         0,
         0
        ],
        [
         "dbfs:/FileStore/ipl_data/silver/player_match/Season_year=2015/",
         "Season_year=2015/",
         0,
         0
        ],
        [
         "dbfs:/FileStore/ipl_data/silver/player_match/Season_year=2016/",
         "Season_year=2016/",
         0,
         0
        ],
        [
         "dbfs:/FileStore/ipl_data/silver/player_match/Season_year=2017/",
         "Season_year=2017/",
         0,
         0
        ],
        [
         "dbfs:/FileStore/ipl_data/silver/player_match/_delta_log/",
         "_delta_log/",
         0,
         0
        ]
       ],
       "datasetInfos": [],
       "dbfsResultPath": null,
       "isJsonSchema": true,
       "metadata": {
        "isDbfsCommandResult": false
       },
       "overflow": false,
       "plotOptions": {
        "customPlotOptions": {},
        "displayType": "table",
        "pivotAggregation": null,
        "pivotColumns": null,
        "xColumns": null,
        "yColumns": null
       },
       "removedWidgets": [],
       "schema": [
        {
         "metadata": "{}",
         "name": "path",
         "type": "\"string\""
        },
        {
         "metadata": "{}",
         "name": "name",
         "type": "\"string\""
        },
        {
         "metadata": "{}",
         "name": "size",
         "type": "\"long\""
        },
        {
         "metadata": "{}",
         "name": "modificationTime",
         "type": "\"long\""
        }
       ],
       "type": "table"
      }
     },
     "output_type": "display_data"
    }
   ],
   "source": [
    "%fs ls /FileStore/ipl_data/silver/player_match"
   ]
  },
  {
   "cell_type": "markdown",
   "metadata": {
    "application/vnd.databricks.v1+cell": {
     "cellMetadata": {
      "byteLimit": 2048000,
      "implicitDf": true,
      "rowLimit": 10000
     },
     "inputWidgets": {},
     "nuid": "21cb74a3-f420-45d9-b059-6141276ec1c8",
     "showTitle": false,
     "tableResultSettingsMap": {},
     "title": ""
    }
   },
   "source": [
    "silver_layer_path=\"dbfs:/FileStore/ipl_data/silver/\"\n",
    "\n",
    "spark.sql(f\"CREATE table IF NOT EXISTS ball_by_ball_stats using DELTA LOCATION '{silver_layer_path}ball_by_ball_stats'\")\n",
    "\n",
    "spark.sql(\"CREATE table IF NOT EXISTS matches using DELTA LOCATION '{silver_layer_path}match'\")\n",
    "\n",
    "spark.sql(\"CREATE table IF NOT EXISTS player_match using DELTA LOCATION '{silver_layer_path}player_match'\")\n",
    "\n",
    "spark.sql(\"CREATE table IF NOT EXISTS players_data using DELTA LOCATION '{silver_layer_path}players_data'\")\n",
    "\n",
    "spark.sql(\"CREATE table IF NOT EXISTS teams using DELTA LOCATION '{silver_layer_path}teams'\")\n",
    "\n"
   ]
  },
  {
   "cell_type": "markdown",
   "metadata": {
    "application/vnd.databricks.v1+cell": {
     "cellMetadata": {
      "byteLimit": 2048000,
      "rowLimit": 10000
     },
     "inputWidgets": {},
     "nuid": "79c1a072-d556-4922-8ae2-e1140787b18e",
     "showTitle": false,
     "tableResultSettingsMap": {},
     "title": ""
    }
   },
   "source": [
    "create temporary tables"
   ]
  },
  {
   "cell_type": "code",
   "execution_count": 0,
   "metadata": {
    "application/vnd.databricks.v1+cell": {
     "cellMetadata": {
      "byteLimit": 2048000,
      "implicitDf": true,
      "rowLimit": 10000
     },
     "inputWidgets": {},
     "nuid": "be14986a-63b8-4f4c-a950-e96bbdfe29b7",
     "showTitle": false,
     "tableResultSettingsMap": {},
     "title": ""
    }
   },
   "outputs": [],
   "source": [
    "BATTER_INNS_PLAYED=\"\"\"select \n",
    "season_year,\n",
    "player_id,\n",
    "player_team,\n",
    "count(distinct match_id) as total_matches_played,\n",
    "sum(inn) as innings_played,\n",
    "(sum(inn) -sum(out_ind) )as not_out\n",
    "from \n",
    "(\n",
    "select a.match_id,\n",
    "\t   a.player_id,\n",
    "\t   a.season_year,\n",
    "\t   a.player_team_abbrivation as player_team,\n",
    "       case when (a.player_id=b.striker or a.player_id=b.non_striker) then 1 else 0 end as inn,\n",
    "       case when a.player_id=c.player_out then 1 else 0 end as out_ind \n",
    "from player_match a\n",
    "left join \n",
    "ball_by_ball_stats b\n",
    "on a.match_id=b.match_id and a.season_year=b.season and (a.player_id=b.striker or a.player_id=b.non_striker)\n",
    "left join \n",
    "ball_by_ball_stats c on c.match_id=a.match_id and a.player_id=c.player_out and c.player_out is not null\n",
    "GROUP BY 1,2,3,4,5,6) a\n",
    "group by 1,2,3\"\"\"\n",
    "\n",
    "total_runs_and_balls_faced=\"\"\"select \n",
    "season,\n",
    "striker,\n",
    "sum(runs_scored) as scored_match_runs ,\n",
    "sum(case when extra_type in ('No Extras','Byes','Legbyes','legbyes','byes','Noballs','noballs') then 1 else 0 end) as balls_faced\n",
    "from  ball_by_ball_stats\n",
    "group by 1,2;\"\"\"\n",
    "\n",
    "batters_season_highg_scores=\"\"\"\n",
    "select \n",
    "season,\n",
    "striker,\n",
    "runs\n",
    "from\n",
    "(\n",
    "select \n",
    "season,\n",
    "striker,\n",
    "match_id,\n",
    "sum(runs_scored) as runs,\n",
    "row_number() over( partition by  season,striker order by season asc , sum(runs_scored) desc) as runs_rank\n",
    "from ball_by_ball_stats\n",
    "group by 1,2,3\n",
    ") a where  runs_rank=1;\"\"\"\n",
    "\n",
    "centuries=\"\"\"\n",
    "select \n",
    "season,\n",
    "striker, \n",
    "sum(case when runs>=50 and runs<100 then 1 else 0 end) as fifties ,\n",
    "sum(case when runs>=100 then 1 else 0 end) as hundreds \n",
    "from (\n",
    "select \n",
    "season,\n",
    "striker,\n",
    "match_id,\n",
    "sum(runs_scored) as runs\n",
    "from ball_by_ball_stats\n",
    "group by 1,2,3 ) a \n",
    "group by season,striker;\"\"\"\n",
    "\n",
    "boundry_count=\"\"\"\n",
    "select \n",
    "season,\n",
    "striker,\n",
    "sum (case when runs_scored=4 then 1 else 0 end ) as fours,\n",
    "sum (case when runs_scored=6 then 1 else 0 end ) as sixes\n",
    "from ball_by_ball_stats\n",
    "where runs_scored in (4,6) \n",
    "group by 1,2  ; \"\"\"\n",
    "\n",
    "fastest_fifty_hundred=\"\"\"\n",
    "select \n",
    "match_id,\n",
    "season,\n",
    "striker,\n",
    "sum(runs_scored) over(partition by match_id,season,striker order by over_id asc, ball_id asc) as run_mark,\n",
    "row_number() over(partition by match_id,season,striker order by match_id ) as balls_faced_to_get_runs\n",
    "from ball_by_ball_stats \n",
    "where  extra_type in ('No Extras','Byes','Legbyes','legbyes','byes')\"\"\"\n",
    "\n",
    "fours_sixes=\"\"\"\n",
    "select \n",
    "a.match_id,\n",
    "a.season,\n",
    "a.striker,\n",
    "a.battingteam_sk,\n",
    "a.bowlingteam_sk,\n",
    "sum(a.runs_scored) as runs_scored,\n",
    "sum (case when runs_scored=4 then 1 else 0 end ) as fours,\n",
    "sum (case when runs_scored=6 then 1 else 0 end ) as sixes\n",
    "from ball_by_ball_stats  a\n",
    "group by 1,2,3,4,5\"\"\"\n",
    "\n",
    "\n",
    "most_fours_sixes=\"\"\"\n",
    "select \n",
    "a.season as season_year,\n",
    "p.player_name as PLAYER,\n",
    "a.runs_scored as RUNS,\n",
    "a.player_team,\n",
    "a.BF as BF,\n",
    "coalesce(ROUND((cast(NULLIF(a.runs_scored,0) as DECIMAL(10,2))/cast(NULLIF(a.BF,0) as decimal(10,2))*100),2),0) as SR,\n",
    "a.fours as `4S`,\n",
    "a.sixes as `6S`,\n",
    "a.AGAINST,\n",
    "m.venue_name as VENU,\n",
    "m.match_date as MATCH_DATE\n",
    "from\n",
    "(select \n",
    "match_id,\n",
    "season,\n",
    "striker,\n",
    "b.team_name_abbrivation as player_team,\n",
    "c.team_name_abbrivation as AGAINST ,\n",
    "sum(runs_scored) as runs_scored,\n",
    "sum(case when extra_type in ('No Extras','Byes','Legbyes','legbyes','byes') then 1 else 0 end ) as BF,\n",
    "sum (case when runs_scored=4 then 1 else 0 end ) as fours,\n",
    "sum (case when runs_scored=6 then 1 else 0 end ) as sixes\n",
    "from ball_by_ball_stats a\n",
    "left join \n",
    "teams b on a.battingteam_sk=b.team_sk\n",
    " left join \n",
    "teams c on a.bowlingteam_sk=c.team_sk\n",
    "group by 1,2,3,4,5\n",
    ") a\n",
    "left join \n",
    "matches m on a.match_id=m.match_id\n",
    "left join players_data p on p.player_id=a.striker\"\"\"\n",
    "\n",
    "\n",
    "spark.sql(BATTER_INNS_PLAYED).createOrReplaceTempView('BATTER_INNS_PLAYED')\n",
    "\n",
    "spark.sql(total_runs_and_balls_faced).createOrReplaceTempView('TOTAL_RUNS_AND_BALLS_FACED')\n",
    "\n",
    "spark.sql(batters_season_highg_scores).createOrReplaceTempView('BATTERS_SEASON_HIGH_SCORES')\n",
    "\n",
    "spark.sql(centuries).createOrReplaceTempView('CENTURIES')\n",
    "\n",
    "spark.sql(boundry_count).createOrReplaceTempView('BOUNDRY_COUNT')\n",
    "\n",
    "spark.sql(fastest_fifty_hundred).createOrReplaceTempView('fastest_fifty_hundred')\n",
    "\n",
    "spark.sql(fours_sixes).createOrReplaceTempView('fours_sixes')\n",
    "\n",
    "spark.sql(most_fours_sixes).createOrReplaceTempView('most_fours_sixes')"
   ]
  },
  {
   "cell_type": "markdown",
   "metadata": {
    "application/vnd.databricks.v1+cell": {
     "cellMetadata": {
      "byteLimit": 2048000,
      "implicitDf": true,
      "rowLimit": 10000
     },
     "inputWidgets": {},
     "nuid": "0ea74e4f-d9a1-427f-96f3-3d19d3fa0065",
     "showTitle": false,
     "tableResultSettingsMap": {},
     "title": ""
    }
   },
   "source": [
    "ORANGE CAP Report: season's top run scorer"
   ]
  },
  {
   "cell_type": "code",
   "execution_count": 0,
   "metadata": {
    "application/vnd.databricks.v1+cell": {
     "cellMetadata": {
      "byteLimit": 2048000,
      "rowLimit": 10000
     },
     "inputWidgets": {},
     "nuid": "ae272faa-f121-48bf-8983-a3f37126ae74",
     "showTitle": false,
     "tableResultSettingsMap": {},
     "title": ""
    }
   },
   "outputs": [
    {
     "output_type": "stream",
     "name": "stdout",
     "output_type": "stream",
     "text": [
      "Out[2]: DataFrame[num_affected_rows: bigint, num_inserted_rows: bigint]"
     ]
    }
   ],
   "source": [
    "\n",
    "gold_path = \"dbfs:/FileStore/ipl_data/gold/batters\"\n",
    "\n",
    "ORANGE_CAP=\"\"\"select \n",
    "a.season_year,\n",
    "a.player_id as PLAYER, \n",
    "h.player_name,\n",
    "a.player_team,\n",
    "coalesce(b.scored_match_runs,0) as RUNS,\n",
    "coalesce(a.total_matches_played,0) as MAT ,\n",
    "coalesce(a.innings_played,0) as INNS,\n",
    "coalesce(a.not_out,0) as NO,\n",
    "coalesce(c.runs,0) as HS,\n",
    "coalesce(ROUND(cast(NULLIF(b.scored_match_runs,0) as DECIMAL(10,2))/cast(NULLIF((NULLIF(a.innings_played,0) -NULLIF(a.not_out,0)) ,0) as decimal(10,2)),2),0) as AVG,\n",
    "coalesce(b.balls_faced,0) as BF,\n",
    "coalesce(ROUND((cast(NULLIF(b.scored_match_runs,0) as DECIMAL(10,2))/cast(NULLIF(b.balls_faced,0) as decimal(10,2))*100),2),0) as SR,\n",
    "coalesce(d.hundreds,0) as `100`,\n",
    "coalesce(d.fifties,0) as `50`,\n",
    "coalesce(f.fours,0) as `4S`,\n",
    "coalesce(f.sixes,0) as `6S`\n",
    "from BATTER_INNS_PLAYED a \n",
    "left join \n",
    "total_runs_and_balls_faced b on a.season_year=b.season and a.player_id=b.striker\n",
    "left join\n",
    "BATTERS_SEASON_HIGH_SCORES c on a.season_year=c.season and a.player_id=c.striker\n",
    "left join \n",
    "centuries d on a.season_year=d.season and a.player_id=d.striker\n",
    "left join\n",
    "boundry_count f on a.season_year=f.season and a.player_id=f.striker\n",
    "left join \n",
    "players_data h on a.player_id=h.player_id\n",
    "order by a.season_year asc,RUNS desc;\"\"\"\n",
    "\n",
    "\n",
    "spark.sql(f\"\"\"\n",
    "    CREATE OR REPLACE TABLE orange_cap\n",
    "    USING DELTA\n",
    "    PARTITIONED BY (season_year)\n",
    "    LOCATION \"{gold_path}/orange_cap\"\n",
    "    AS {ORANGE_CAP}\n",
    "\"\"\")\n",
    "\n",
    "\n",
    "RuPay_On_The_Go_4s_of_the_Season=\"\"\"select \n",
    "season_year,\n",
    "Player,\n",
    "player_name,\n",
    "player_team,\n",
    "\"4S\",\n",
    "mat,\n",
    "inns,\n",
    "no,\n",
    "runs,\n",
    "hs,\n",
    "\"AVG\",\n",
    "bf,\n",
    "sr,\n",
    "`100`,\n",
    "`50`,\n",
    "`6S`\n",
    "from ORANGE_CAP order by season_year asc, `4S` desc\"\"\"\n",
    "\n",
    "spark.sql(f\"\"\"\n",
    "    CREATE OR REPLACE TABLE RuPay_On_The_Go_4s_of_the_Season\n",
    "    USING DELTA\n",
    "    PARTITIONED BY (season_year)\n",
    "    LOCATION \"{gold_path}/RuPay_On_The_Go_4s_of_the_Season\"\n",
    "    AS {RuPay_On_The_Go_4s_of_the_Season}\n",
    "\"\"\")\n",
    "\n",
    "Angel_One_Super_Sixes_of_the_Season=\"\"\"select \n",
    "season_year,\n",
    "Player,\n",
    "player_name,\n",
    "player_team,\n",
    "\"6S\",\n",
    "mat,\n",
    "inns,\n",
    "no,\n",
    "runs,\n",
    "hs,\n",
    "\"AVG\",\n",
    "bf,\n",
    "sr,\n",
    "`100`,\n",
    "`50`,\n",
    "`4S`\n",
    "from ORANGE_CAP order by season_year asc, `6S` desc\"\"\"\n",
    "\n",
    "spark.sql(f\"\"\"\n",
    "    CREATE OR REPLACE TABLE Angel_One_Super_Sixes_of_the_Season\n",
    "    USING DELTA\n",
    "    PARTITIONED BY (season_year)\n",
    "    LOCATION \"{gold_path}/Angel_One_Super_Sixes_of_the_Season\"\n",
    "    AS {Angel_One_Super_Sixes_of_the_Season}\n",
    "\"\"\")\n",
    "\n",
    "Most_Fifties=\"\"\"select \n",
    "season_year,\n",
    "Player,\n",
    "player_name,\n",
    "player_team,\n",
    "`50`,\n",
    "mat,\n",
    "inns,\n",
    "no,\n",
    "runs,\n",
    "hs,\n",
    "AVG,\n",
    "bf,\n",
    "sr,\n",
    "`100`,\n",
    "`4S`,\n",
    "`6S`\n",
    "from ORANGE_CAP order by season_year asc, `50` desc\"\"\"\n",
    "\n",
    "spark.sql(f\"\"\"\n",
    "    CREATE OR REPLACE TABLE Most_Fifties\n",
    "    USING DELTA\n",
    "    PARTITIONED BY (season_year)\n",
    "    LOCATION \"{gold_path}/Most_Fifties\"\n",
    "    AS {Most_Fifties}\n",
    "\"\"\")\n",
    "\n",
    "Most_Centuries=\"\"\"select \n",
    "season_year,\n",
    "Player,\n",
    "player_name,\n",
    "player_team,\n",
    "`100`,\n",
    "mat,\n",
    "inns,\n",
    "no,\n",
    "runs,\n",
    "hs,\n",
    "AVG,\n",
    "bf,\n",
    "sr,\n",
    "`50`,\n",
    "`4S`,\n",
    "`6S`\n",
    "from ORANGE_CAP order by season_year asc, `100` desc \"\"\"\n",
    "\n",
    "\n",
    "spark.sql(f\"\"\"\n",
    "    CREATE OR REPLACE TABLE Most_Centuries\n",
    "    USING DELTA\n",
    "    PARTITIONED BY (season_year)\n",
    "    LOCATION \"{gold_path}/Most_Centuries\"\n",
    "    AS {Most_Centuries}\n",
    "\"\"\")\n",
    "\n",
    "Highest_Scores=\"\"\"select \n",
    "season_year,\n",
    "Player,\n",
    "player_name,\n",
    "player_team,\n",
    "hs,\n",
    "mat,\n",
    "inns,\n",
    "no,\n",
    "runs,\n",
    "AVG,\n",
    "bf,\n",
    "sr,\n",
    "`100`,\n",
    "`50`,\n",
    "`4S`,\n",
    "`6S`\n",
    "from ORANGE_CAP order by season_year asc, hs desc \"\"\"\n",
    "\n",
    "spark.sql(f\"\"\"\n",
    "    CREATE OR REPLACE TABLE Highest_Scores\n",
    "    USING DELTA\n",
    "    PARTITIONED BY (season_year)\n",
    "    LOCATION \"{gold_path}/Highest_Scores\"\n",
    "    AS {Highest_Scores}\n",
    "\"\"\")\n",
    "\n",
    "Punch_ev_Electric_Striker_of_the_Season=\"\"\"select \n",
    "season_year,\n",
    "Player,\n",
    "player_name,\n",
    "player_team,\n",
    "sr,\n",
    "mat,\n",
    "inns,\n",
    "no,\n",
    "runs,\n",
    "hs,\n",
    "AVG,\n",
    "bf,\n",
    "`100`,\n",
    "`50`,\n",
    "`4S`,\n",
    "`6S`\n",
    "from ORANGE_CAP order by season_year asc, sr desc \"\"\"\n",
    "\n",
    "spark.sql(f\"\"\"\n",
    "    CREATE OR REPLACE TABLE Punch_ev_Electric_Striker_of_the_Season\n",
    "    USING DELTA\n",
    "    PARTITIONED BY (season_year)\n",
    "    LOCATION \"{gold_path}/Punch_ev_Electric_Striker_of_the_Season\"\n",
    "    AS {Punch_ev_Electric_Striker_of_the_Season}\n",
    "\"\"\")\n",
    "\n",
    "Best_Batting_Averages=\"\"\"select \n",
    "season_year,\n",
    "Player,\n",
    "player_name,\n",
    "player_team,\n",
    "AVG,\n",
    "mat,\n",
    "inns,\n",
    "no,\n",
    "runs,\n",
    "hs,\n",
    "bf,\n",
    "sr,\n",
    "`100`,\n",
    "`50`,\n",
    "`4S`,\n",
    "`6S`\n",
    "from ORANGE_CAP order by season_year asc, \"AVG\" desc \"\"\"\n",
    "\n",
    "spark.sql(f\"\"\"\n",
    "    CREATE OR REPLACE TABLE Best_Batting_Averages\n",
    "    USING DELTA\n",
    "    PARTITIONED BY (season_year)\n",
    "    LOCATION \"{gold_path}/Best_Batting_Averages\"\n",
    "    AS {Best_Batting_Averages}\n",
    "\"\"\")\n",
    "\n",
    "\n"
   ]
  },
  {
   "cell_type": "markdown",
   "metadata": {
    "application/vnd.databricks.v1+cell": {
     "cellMetadata": {
      "byteLimit": 2048000,
      "rowLimit": 10000
     },
     "inputWidgets": {},
     "nuid": "4f97cb3d-4094-4fcb-a902-b52e39025007",
     "showTitle": false,
     "tableResultSettingsMap": {},
     "title": ""
    }
   },
   "source": [
    "Innings/match level reports\n"
   ]
  },
  {
   "cell_type": "code",
   "execution_count": 0,
   "metadata": {
    "application/vnd.databricks.v1+cell": {
     "cellMetadata": {
      "byteLimit": 2048000,
      "rowLimit": 10000
     },
     "inputWidgets": {},
     "nuid": "a0c36e18-a17a-41df-a10f-841be5f03e1a",
     "showTitle": false,
     "tableResultSettingsMap": {},
     "title": ""
    }
   },
   "outputs": [
    {
     "output_type": "stream",
     "name": "stdout",
     "output_type": "stream",
     "text": [
      "Out[9]: DataFrame[num_affected_rows: bigint, num_inserted_rows: bigint]"
     ]
    }
   ],
   "source": [
    "\n",
    "most_fours=\"\"\"select \n",
    "season_year,\n",
    "player\n",
    "player_team,\n",
    "`4S`,\n",
    "RUNS,\n",
    "BF,\n",
    "SR,\n",
    "`6S`,\n",
    "AGAINST,\n",
    "VENU,\n",
    "MATCH_DATE\n",
    "from most_fours_sixes order by season_year asc, `4S` desc;\"\"\"\n",
    "\n",
    "spark.sql(f\"\"\"\n",
    "    CREATE OR REPLACE TABLE most_fours\n",
    "    USING DELTA\n",
    "    PARTITIONED BY (season_year)\n",
    "    LOCATION \"{gold_path}/most_fours\"\n",
    "    AS {most_fours}\n",
    "\"\"\")\n",
    "\n",
    "\n",
    "most_sixes=\"\"\"select \n",
    "season_year,\n",
    "player\n",
    "player_team,\n",
    "`6S`,\n",
    "RUNS,\n",
    "BF,\n",
    "SR,\n",
    "`4S`,\n",
    "AGAINST,\n",
    "VENU,\n",
    "MATCH_DATE\n",
    "from most_fours_sixes order by season_year asc, `6S` desc;\"\"\"\n",
    "\n",
    "spark.sql(f\"\"\"\n",
    "    CREATE OR REPLACE TABLE most_sixes\n",
    "    USING DELTA\n",
    "    PARTITIONED BY (season_year)\n",
    "    LOCATION \"{gold_path}/most_sixes\"\n",
    "    AS {most_sixes}\n",
    "\"\"\")\n",
    "\n",
    "\n",
    "#------------------------------------------ Fastest Fifties ------------------------------------------\n",
    "\n",
    "\n",
    "\n",
    "\n",
    "\n",
    "fastest_fifties=\"\"\" \n",
    "select a.season as season_year,\n",
    "           a.player_name as PLAYER,\n",
    "\t   b.player_team,\n",
    "\t   b.runs_scored as RUNS, \n",
    "\t   a.balls_faced_to_get_to_fifty_runs as BF,\n",
    "\t   Round((cast(b.runs_scored as DECIMAL(10,2))/cast(a.balls_faced_to_get_to_fifty_runs as DECIMAL(10,2))*100),2) as SR,\n",
    "           b.AGAINST,\n",
    "\t   b.venue,\n",
    "\t   b.MATCH_DATE\t   \n",
    "from\n",
    "(select \n",
    "match_id,\n",
    "season,\n",
    "striker,\n",
    "p.player_name,\n",
    "min(balls_faced_to_get_runs) as balls_faced_to_get_to_fifty_runs\n",
    "from \n",
    "fastest_fifty_hundred a \n",
    "left join\n",
    "players_data p on a.striker=p.player_id\n",
    " where a.run_mark >=50 and a.run_mark <60\n",
    "group by 1,2,3,4 ) a\n",
    "left join \n",
    "(select \n",
    "a.match_id,\n",
    "a.season,\n",
    "a.striker,\n",
    "b.team_name_abbrivation as player_team,\n",
    "c.team_name_abbrivation as AGAINST ,\n",
    "m.venue_name as VENUE,\n",
    "m.match_date as MATCH_DATE,\n",
    "a.runs_scored\n",
    "from fours_sixes a\n",
    " left join\n",
    "teams b on a.battingteam_sk=b.team_sk\n",
    " left join \n",
    "teams c on a.bowlingteam_sk=c.team_sk\n",
    " left join \n",
    "matches m on a.match_id=m.match_id) b on a.match_id=b.match_id and a.season=b.season and a.striker=b.striker\n",
    "order by a.season asc, bf asc;\"\"\"\n",
    "\n",
    "\n",
    "spark.sql(f\"\"\"\n",
    "    CREATE OR REPLACE TABLE fastest_fifties\n",
    "    USING DELTA\n",
    "    PARTITIONED BY (season_year)\n",
    "    LOCATION \"{gold_path}/fastest_fifties\"\n",
    "    AS {fastest_fifties}\n",
    "\"\"\")\n",
    "\n",
    "#------------------------------------------ Fastest Centuries ------------------------------------------\n",
    "Fastest_Centuries=\"\"\"\n",
    "select     a.season as season_year,\n",
    "           a.player_name as PLAYER,\n",
    "\t   b.player_team,\n",
    "\t   b.runs_scored as RUNS, \n",
    "\t   a.balls_faced_to_get_to_hundred_runs as BF,\n",
    "\t   Round((cast(b.runs_scored as DECIMAL(10,2))/cast(a.balls_faced_to_get_to_hundred_runs as DECIMAL(10,2))*100),2) as SR,\n",
    "           b.AGAINST,\n",
    "\t   b.venue,\n",
    "\t   b.MATCH_DATE\n",
    "\t   \n",
    "from\n",
    "(select \n",
    "match_id,\n",
    "season,\n",
    "striker,\n",
    "p.player_name,\n",
    "min(balls_faced_to_get_runs) as balls_faced_to_get_to_hundred_runs\n",
    "from \n",
    "fastest_fifty_hundred a \n",
    "left join\n",
    "players_data p on a.striker=p.player_id\n",
    " where a.run_mark >=100\n",
    "group by 1,2,3,4 ) a\n",
    "left join \n",
    "\t(select \n",
    "\ta.match_id,\n",
    "\ta.season,\n",
    "\ta.striker,\n",
    "\tb.team_name_abbrivation as player_team,\n",
    "\tc.team_name_abbrivation as AGAINST ,\n",
    "\tm.venue_name as VENUE,\n",
    "\tm.match_date as MATCH_DATE,\n",
    "\ta.runs_scored\n",
    "\tfrom fours_sixes a\n",
    "left join\n",
    "\tteams b on a.battingteam_sk=b.team_sk\n",
    "left join \n",
    "\tteams c on a.bowlingteam_sk=c.team_sk\n",
    "left join \n",
    "\tmatches m on a.match_id=m.match_id) b on a.match_id=b.match_id and a.season=b.season and a.striker=b.striker\n",
    "order by a.season asc, bf asc;\"\"\"\n",
    "\n",
    "\n",
    "spark.sql(f\"\"\"\n",
    "    CREATE OR REPLACE TABLE Fastest_Centuries\n",
    "    USING DELTA\n",
    "    PARTITIONED BY (season_year)\n",
    "    LOCATION \"{gold_path}/Fastest_Centuries\"\n",
    "    AS {Fastest_Centuries}\n",
    "\"\"\")"
   ]
  },
  {
   "cell_type": "code",
   "execution_count": 0,
   "metadata": {
    "application/vnd.databricks.v1+cell": {
     "cellMetadata": {
      "byteLimit": 2048000,
      "rowLimit": 10000
     },
     "inputWidgets": {},
     "nuid": "fa6b0898-86f8-4b00-8b5d-4c1999047a7a",
     "showTitle": false,
     "tableResultSettingsMap": {},
     "title": ""
    }
   },
   "outputs": [
    {
     "output_type": "display_data",
     "data": {
      "text/html": [
       "<style scoped>\n",
       "  .table-result-container {\n",
       "    max-height: 300px;\n",
       "    overflow: auto;\n",
       "  }\n",
       "  table, th, td {\n",
       "    border: 1px solid black;\n",
       "    border-collapse: collapse;\n",
       "  }\n",
       "  th, td {\n",
       "    padding: 5px;\n",
       "  }\n",
       "  th {\n",
       "    text-align: left;\n",
       "  }\n",
       "</style><div class='table-result-container'><table class='table-result'><thead style='background-color: white'><tr><th>path</th><th>name</th><th>size</th><th>modificationTime</th></tr></thead><tbody><tr><td>dbfs:/FileStore/ipl_data/gold/batters/Angel_One_Super_Sixes_of_the_Season/</td><td>Angel_One_Super_Sixes_of_the_Season/</td><td>0</td><td>0</td></tr><tr><td>dbfs:/FileStore/ipl_data/gold/batters/Best_Batting_Averages/</td><td>Best_Batting_Averages/</td><td>0</td><td>0</td></tr><tr><td>dbfs:/FileStore/ipl_data/gold/batters/Fastest_Centuries/</td><td>Fastest_Centuries/</td><td>0</td><td>0</td></tr><tr><td>dbfs:/FileStore/ipl_data/gold/batters/Highest_Scores/</td><td>Highest_Scores/</td><td>0</td><td>0</td></tr><tr><td>dbfs:/FileStore/ipl_data/gold/batters/Most_Centuries/</td><td>Most_Centuries/</td><td>0</td><td>0</td></tr><tr><td>dbfs:/FileStore/ipl_data/gold/batters/Most_Fifties/</td><td>Most_Fifties/</td><td>0</td><td>0</td></tr><tr><td>dbfs:/FileStore/ipl_data/gold/batters/Punch_ev_Electric_Striker_of_the_Season/</td><td>Punch_ev_Electric_Striker_of_the_Season/</td><td>0</td><td>0</td></tr><tr><td>dbfs:/FileStore/ipl_data/gold/batters/RuPay_On_The_Go_4s_of_the_Season/</td><td>RuPay_On_The_Go_4s_of_the_Season/</td><td>0</td><td>0</td></tr><tr><td>dbfs:/FileStore/ipl_data/gold/batters/fastest_fifties/</td><td>fastest_fifties/</td><td>0</td><td>0</td></tr><tr><td>dbfs:/FileStore/ipl_data/gold/batters/most_fours/</td><td>most_fours/</td><td>0</td><td>0</td></tr><tr><td>dbfs:/FileStore/ipl_data/gold/batters/most_sixes/</td><td>most_sixes/</td><td>0</td><td>0</td></tr><tr><td>dbfs:/FileStore/ipl_data/gold/batters/orange_cap/</td><td>orange_cap/</td><td>0</td><td>0</td></tr></tbody></table></div>"
      ]
     },
     "metadata": {
      "application/vnd.databricks.v1+output": {
       "addedWidgets": {},
       "aggData": [],
       "aggError": "",
       "aggOverflow": false,
       "aggSchema": [],
       "aggSeriesLimitReached": false,
       "aggType": "",
       "arguments": {},
       "columnCustomDisplayInfos": {},
       "data": [
        [
         "dbfs:/FileStore/ipl_data/gold/batters/Angel_One_Super_Sixes_of_the_Season/",
         "Angel_One_Super_Sixes_of_the_Season/",
         0,
         0
        ],
        [
         "dbfs:/FileStore/ipl_data/gold/batters/Best_Batting_Averages/",
         "Best_Batting_Averages/",
         0,
         0
        ],
        [
         "dbfs:/FileStore/ipl_data/gold/batters/Fastest_Centuries/",
         "Fastest_Centuries/",
         0,
         0
        ],
        [
         "dbfs:/FileStore/ipl_data/gold/batters/Highest_Scores/",
         "Highest_Scores/",
         0,
         0
        ],
        [
         "dbfs:/FileStore/ipl_data/gold/batters/Most_Centuries/",
         "Most_Centuries/",
         0,
         0
        ],
        [
         "dbfs:/FileStore/ipl_data/gold/batters/Most_Fifties/",
         "Most_Fifties/",
         0,
         0
        ],
        [
         "dbfs:/FileStore/ipl_data/gold/batters/Punch_ev_Electric_Striker_of_the_Season/",
         "Punch_ev_Electric_Striker_of_the_Season/",
         0,
         0
        ],
        [
         "dbfs:/FileStore/ipl_data/gold/batters/RuPay_On_The_Go_4s_of_the_Season/",
         "RuPay_On_The_Go_4s_of_the_Season/",
         0,
         0
        ],
        [
         "dbfs:/FileStore/ipl_data/gold/batters/fastest_fifties/",
         "fastest_fifties/",
         0,
         0
        ],
        [
         "dbfs:/FileStore/ipl_data/gold/batters/most_fours/",
         "most_fours/",
         0,
         0
        ],
        [
         "dbfs:/FileStore/ipl_data/gold/batters/most_sixes/",
         "most_sixes/",
         0,
         0
        ],
        [
         "dbfs:/FileStore/ipl_data/gold/batters/orange_cap/",
         "orange_cap/",
         0,
         0
        ]
       ],
       "datasetInfos": [],
       "dbfsResultPath": null,
       "isJsonSchema": true,
       "metadata": {
        "isDbfsCommandResult": false
       },
       "overflow": false,
       "plotOptions": {
        "customPlotOptions": {},
        "displayType": "table",
        "pivotAggregation": null,
        "pivotColumns": null,
        "xColumns": null,
        "yColumns": null
       },
       "removedWidgets": [],
       "schema": [
        {
         "metadata": "{}",
         "name": "path",
         "type": "\"string\""
        },
        {
         "metadata": "{}",
         "name": "name",
         "type": "\"string\""
        },
        {
         "metadata": "{}",
         "name": "size",
         "type": "\"long\""
        },
        {
         "metadata": "{}",
         "name": "modificationTime",
         "type": "\"long\""
        }
       ],
       "type": "table"
      }
     },
     "output_type": "display_data"
    }
   ],
   "source": [
    "%fs ls /FileStore/ipl_data/gold/batters"
   ]
  }
 ],
 "metadata": {
  "application/vnd.databricks.v1+notebook": {
   "dashboards": [],
   "environmentMetadata": null,
   "language": "python",
   "notebookMetadata": {
    "mostRecentlyExecutedCommandWithImplicitDF": {
     "commandId": 1478558342228653,
     "dataframes": [
      "_sqldf"
     ]
    },
    "pythonIndentUnit": 4
   },
   "notebookName": "IPL Data Analysis - Orange Cap Stats - SQL",
   "widgets": {}
  }
 },
 "nbformat": 4,
 "nbformat_minor": 0
}
