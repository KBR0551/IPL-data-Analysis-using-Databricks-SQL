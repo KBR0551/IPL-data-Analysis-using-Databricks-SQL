{
 "cells": [
  {
   "cell_type": "markdown",
   "metadata": {
    "application/vnd.databricks.v1+cell": {
     "cellMetadata": {
      "byteLimit": 2048000,
      "rowLimit": 10000
     },
     "inputWidgets": {},
     "nuid": "15cbf1fa-fdfb-485f-bc3e-c8ea0c8e4782",
     "showTitle": false,
     "tableResultSettingsMap": {},
     "title": ""
    }
   },
   "source": [
    "Load ball_by_ball data into dataframe"
   ]
  },
  {
   "cell_type": "markdown",
   "metadata": {
    "application/vnd.databricks.v1+cell": {
     "cellMetadata": {
      "byteLimit": 2048000,
      "rowLimit": 10000
     },
     "inputWidgets": {},
     "nuid": "e50a8a9a-4478-462b-810a-dbf973dab79a",
     "showTitle": false,
     "tableResultSettingsMap": {},
     "title": ""
    }
   },
   "source": [
    "Load player_match data to dataframe\n"
   ]
  },
  {
   "cell_type": "markdown",
   "metadata": {
    "application/vnd.databricks.v1+cell": {
     "cellMetadata": {
      "byteLimit": 2048000,
      "rowLimit": 10000
     },
     "inputWidgets": {},
     "nuid": "cfd84638-a16c-4e52-9ea5-db45bbb22b64",
     "showTitle": false,
     "tableResultSettingsMap": {},
     "title": ""
    }
   },
   "source": [
    "Using Python SQL to calculate Bowler level stats for each season.\n",
    "\n",
    "GOAL: Create stats report for bowler level start something which looks in this link https://www.iplt20.com/stats/2008\n",
    "\n",
    "we have to calculate stats at SEASON level & INNINGS/MATCH level.\n",
    "\n",
    "we will need to do some Joins, aggregations,window operations & create intermediate data frames to achive the required columns and values\n",
    "\n",
    "Final reports will be written to dbfs:/FileStore/ipl_data/gold/bowlers path in gold zone\n"
   ]
  },
  {
   "cell_type": "code",
   "execution_count": 0,
   "metadata": {
    "application/vnd.databricks.v1+cell": {
     "cellMetadata": {
      "byteLimit": 2048000,
      "rowLimit": 10000
     },
     "inputWidgets": {},
     "nuid": "1113286e-fef8-4417-92ad-2c8feb7d0d2b",
     "showTitle": false,
     "tableResultSettingsMap": {},
     "title": ""
    }
   },
   "outputs": [],
   "source": [
    "### Create Temporary views to avoid recalculations #####\n",
    "### INNS_STATS \n",
    "### BBI_WICKETS\n",
    "### dot_balls\n",
    "### over_ball_count\n",
    "### bowler_played_matches\n",
    "### bowler_over_order_wicket_cnt\n",
    "### bowler_current_over_next_over\n",
    "### bowler_cont_wick_taken_overs\n",
    "### wicket_taken_balls\n",
    "### overs_with_contunious_wickets\n",
    "### HATRICK\n"
   ]
  },
  {
   "cell_type": "code",
   "execution_count": 0,
   "metadata": {
    "application/vnd.databricks.v1+cell": {
     "cellMetadata": {
      "byteLimit": 2048000,
      "rowLimit": 10000
     },
     "inputWidgets": {},
     "nuid": "b17c5689-699d-4eea-a298-6b83abf8ce4c",
     "showTitle": false,
     "tableResultSettingsMap": {},
     "title": ""
    }
   },
   "outputs": [],
   "source": [
    "\n",
    "INNS_STATS=\"\"\"select * from (\n",
    "select \n",
    "season ,\n",
    "player_id,\n",
    "player_name,\n",
    "player_team,\n",
    "count( match_id) as MAT,\n",
    "sum( inn) as INNS,\n",
    "sum(overs) as OV,\n",
    "coalesce(sum(runs),0) as RUNS,\n",
    "sum(wickets) as WKTS,\n",
    "coalesce(round(NULLIF(sum(runs),0)/NULLIF(sum(wickets),0),2),0) as AVG,\n",
    "coalesce(round(NULLIF(sum(runs),0)/NULLIF(sum(overs),0),2),0) as ECON,\n",
    "coalesce(round(NULLIF(sum(overs)*6,0)/NULLIF(sum(wickets),0),2),0) as SR,\n",
    "sum(four_wick) as `4W`,\n",
    "sum(five_wick) as `5W`\n",
    "from\n",
    "(\n",
    "select a.season_year as season,\n",
    "\t   a.match_id,\n",
    "\t   a.player_id,\n",
    "\t   a.player_name,\n",
    "\t   a.player_team_abbrivation as player_team,\n",
    "\t   count(distinct b.bowler) as inn,\n",
    "\t   count(distinct b.over_id) as overs,\n",
    "\t   sum(b.runs_scored+b.bowler_extras)  as runs,\n",
    "\t   sum(case when b.bowler_wicket=1 then 1 else 0 end) as wickets,\n",
    "\t   case when sum(bowler_wicket)=4 then 1 else 0 end as four_wick,\n",
    "\t   case when sum(bowler_wicket)>=5 then 1 else 0 end as five_wick\n",
    "from player_match a\n",
    "left join \n",
    "ball_by_ball_stats b\n",
    "on a.match_id=b.match_id and a.season_year=b.season and a.player_id=b.bowler\n",
    "GROUP BY 1,2,3,4,5\n",
    ") a\n",
    "group by 1,2,3,4) a \n",
    "where a.WKTS>0\"\"\"\n",
    "\n",
    "\n",
    "BBI_WICKETS=\"\"\"select bowler,wickets,runs from \n",
    "(\n",
    "select \n",
    "        match_id,\n",
    "        bowler, \n",
    "\t\tseason,\n",
    "\t\tsum(bowler_wicket) as wickets,\n",
    "\t    sum(runs_scored+bowler_extras)  as runs,\n",
    "\t\tdense_rank() over(partition by bowler order by sum(bowler_wicket) desc, sum(runs_scored+bowler_extras) asc )  as bbi_rnk,\n",
    "\t\tsum(runs_scored) as runs_concided \n",
    "\t\tfrom ball_by_ball_stats   \n",
    "\t    group by 1,2,3 ) a \n",
    "where bbi_rnk=1\n",
    "group by 1,2,3\"\"\"\n",
    "\n",
    "\n",
    "dot_balls=\"\"\" \n",
    "select \n",
    "\tseason,\n",
    "\tmatch_id,\n",
    "\tbowler,\n",
    "\tcount(*) as DOTS\n",
    "from \n",
    "\tball_by_ball_stats a\n",
    "join \n",
    "\tplayers_data b on a.bowler=b.player_id \n",
    "where runs_scored+extra_runs+bowler_extras+extra_runs=0\n",
    "group by 1,2,3\"\"\"\n",
    "\n",
    "# at over level \n",
    "over_ball_count= \"\"\" \n",
    "select \n",
    "season,\n",
    "match_id,\n",
    "bowler,\n",
    "over_id,\n",
    "sum(case when bowler_extras=0 then 1 else 0 end) as ball_count,  --balls bowled ignoring extra balls bowled by bowler\n",
    "sum(case when bowler_wicket=1 then 1 else 0 end) as over_wickets,  -- wickets taken in each over\n",
    "sum(runs_scored+bowler_extras) as runs  --runs conceded in each over\n",
    "from ball_by_ball_stats \n",
    "group by 1,2,3,4\"\"\"\n",
    "\n",
    "\n",
    "\n",
    "spark.sql(INNS_STATS).createOrReplaceTempView('INNS_STATS')\n",
    "\n",
    "spark.sql(BBI_WICKETS).createOrReplaceTempView('BBI_WICKETS')\n",
    "\n",
    "spark.sql(dot_balls).createOrReplaceTempView('dot_balls')\n",
    "\n",
    "spark.sql(over_ball_count).createOrReplaceTempView('over_ball_count')\n"
   ]
  },
  {
   "cell_type": "code",
   "execution_count": 0,
   "metadata": {
    "application/vnd.databricks.v1+cell": {
     "cellMetadata": {},
     "inputWidgets": {},
     "nuid": "524a31d7-5d13-4833-ae4f-db710571363c",
     "showTitle": false,
     "tableResultSettingsMap": {},
     "title": ""
    }
   },
   "outputs": [],
   "source": []
  },
  {
   "cell_type": "code",
   "execution_count": 0,
   "metadata": {
    "application/vnd.databricks.v1+cell": {
     "cellMetadata": {
      "byteLimit": 2048000,
      "rowLimit": 10000
     },
     "inputWidgets": {},
     "nuid": "5a5d75da-54af-497d-a31b-df138ea288a5",
     "showTitle": false,
     "tableResultSettingsMap": {},
     "title": ""
    }
   },
   "outputs": [
    {
     "output_type": "stream",
     "name": "stdout",
     "output_type": "stream",
     "text": [
      "Out[4]: DataFrame[num_affected_rows: bigint, num_inserted_rows: bigint]"
     ]
    }
   ],
   "source": [
    "##purple Cap\n",
    "\n",
    "gold_path = dbutils.widgets.get(\"gold_path\")\n",
    "\n",
    "PURPLE_CAP=\"\"\"select  \n",
    "a.SEASON as season_year,\n",
    "a.PLAYER_ID,\n",
    "a.PLAYER_NAME,\n",
    "a.PLAYER_TEAM,\n",
    "a.WKTS,\n",
    "a.MAT,\n",
    "a.INNS,\n",
    "a.OV,\n",
    "a.RUNS,\n",
    "concat(b.wickets,'/',b.runs) as BBI,\n",
    "a.AVG,\n",
    "a.ECON,\n",
    "a.SR,\n",
    "a.`4W`,\n",
    "a.`5W`\n",
    "from INNS_STATS a\n",
    "join \n",
    "BBI_WICKETS b on a.PLAYER_ID=b.bowler\n",
    "Order by season asc, wkts desc;\"\"\"\n",
    "\n",
    "\n",
    "spark.sql(f\"\"\"\n",
    "    CREATE OR REPLACE TABLE PURPLE_CAP\n",
    "    USING DELTA\n",
    "    PARTITIONED BY (season_year)\n",
    "    LOCATION \"{gold_path}/purple_cap\"\n",
    "    AS {PURPLE_CAP}\n",
    "\"\"\")\n",
    "\n",
    "\n",
    "\n",
    "Most_Maidens=\"\"\"\n",
    "select  \n",
    "a.SEASON as season_year,\n",
    "a.PLAYER_ID,\n",
    "a.PLAYER_NAME,\n",
    "a.PLAYER_TEAM,\n",
    "b.MAID,\n",
    "a.MAT,\n",
    "a.INNS,\n",
    "a.OV,\n",
    "a.RUNS,\n",
    "a.WKTS,\n",
    "a.AVG,\n",
    "a.ECON,\n",
    "a.SR,\n",
    "a.`4W`,\n",
    "a.`5W`\n",
    "from INNS_STATS a\n",
    "join \n",
    "(select season,bowler,b.player_name,count(*) as MAID\n",
    "from (\n",
    "select season,match_id,bowler,over_id,\n",
    "sum(runs_scored+bowler_extras) as runs,\n",
    "count(ball_id) as ball_count\n",
    "from ball_by_ball_stats \n",
    "group by 1,2,3,4 \n",
    "having sum(runs_scored+bowler_extras)=0 and count(ball_id) >=6 ) a\n",
    "join \n",
    "players_data b on a.bowler=b.player_id\n",
    "group by 1,2,3)  b  on a.season=b.season and a.player_id=b.bowler \n",
    "order by season_year asc, MAID desc\"\"\"\n",
    "\n",
    "spark.sql(f\"\"\"\n",
    "    CREATE OR REPLACE TABLE Most_Maidens\n",
    "    USING DELTA\n",
    "    PARTITIONED BY (season_year)\n",
    "    LOCATION \"{gold_path}/Most_Maidens\"\n",
    "    AS {Most_Maidens}\n",
    "\"\"\")\n",
    "\n",
    "\n",
    "\n",
    "Most_dots_balls=\"\"\"\n",
    "select  \n",
    "a.SEASON as season_year,\n",
    "a.PLAYER_ID,\n",
    "a.PLAYER_NAME,\n",
    "a.PLAYER_TEAM,\n",
    "b.DOTS,\n",
    "a.MAT,\n",
    "a.INNS,\n",
    "a.OV,\n",
    "a.RUNS,\n",
    "a.WKTS,\n",
    "a.AVG,\n",
    "a.ECON,\n",
    "a.SR,\n",
    "a.`4W`,\n",
    "a.`5W`\n",
    "from INNS_STATS a\n",
    "join\n",
    "(select season,bowler,sum(DOTS) as DOTS\n",
    "from dot_balls a\n",
    "group by 1,2) b on a.season=b.season and a.player_id=b.bowler\n",
    "order by b.DOTS desc\"\"\"\n",
    "\n",
    "spark.sql(f\"\"\"\n",
    "    CREATE OR REPLACE TABLE Most_dots_balls\n",
    "    USING DELTA\n",
    "    PARTITIONED BY (season_year)\n",
    "    LOCATION \"{gold_path}/most_dots_balls\"\n",
    "    AS {Most_dots_balls}\n",
    "\"\"\")\n",
    "\n",
    "Best_Bowling_Average=\"\"\"\n",
    "select  \n",
    "season_year,\n",
    "PLAYER_ID,\n",
    "PLAYER_NAME,\n",
    "PLAYER_TEAM,\n",
    "AVG,\n",
    "MAT,\n",
    "INNS,\n",
    "OV,\n",
    "RUNS,\n",
    "WKTS,\n",
    "BBI,\n",
    "ECON,\n",
    "SR,\n",
    "`4W`,\n",
    "`5W`\n",
    "from PURPLE_CAP \n",
    "Order by season_year asc, AVG  asc;\"\"\"\n",
    "\n",
    "spark.sql(f\"\"\"\n",
    "    CREATE OR REPLACE TABLE Best_Bowling_Average\n",
    "    USING DELTA\n",
    "    PARTITIONED BY (season_year)\n",
    "    LOCATION \"{gold_path}/best_bowling_average\"\n",
    "    AS {Best_Bowling_Average}\n",
    "\"\"\")\n",
    "\n",
    "\n",
    "Best_Bowling_Economy=\"\"\"\n",
    "select  \n",
    "season_year,\n",
    "PLAYER_ID,\n",
    "PLAYER_NAME,\n",
    "PLAYER_TEAM,\n",
    "ECON,\n",
    "MAT,\n",
    "INNS,\n",
    "OV,\n",
    "RUNS,\n",
    "WKTS,\n",
    "BBI,\n",
    "AVG,\n",
    "SR,\n",
    "`4W`,\n",
    "`5W`\n",
    "from PURPLE_CAP \n",
    "Order by season_year asc, ECON  asc;\"\"\"\n",
    "\n",
    "spark.sql(f\"\"\"\n",
    "    CREATE OR REPLACE TABLE Best_Bowling_Economy\n",
    "    USING DELTA\n",
    "    PARTITIONED BY (season_year)\n",
    "    LOCATION \"{gold_path}/best_bowling_economy\"\n",
    "    AS {Best_Bowling_Economy}\n",
    "\"\"\")\n",
    "\n",
    "Best_Bowling_Strike_Rate=\"\"\"\n",
    "select  \n",
    "season_year,\n",
    "PLAYER_ID,\n",
    "PLAYER_NAME,\n",
    "PLAYER_TEAM,\n",
    "SR,\n",
    "MAT,\n",
    "INNS,\n",
    "OV,\n",
    "RUNS,\n",
    "WKTS,\n",
    "BBI,\n",
    "AVG,\n",
    "ECON,\n",
    "`4W`,\n",
    "`5W`\n",
    "from PURPLE_CAP \n",
    "Order by season_year asc, SR  asc;\"\"\"\n",
    "\n",
    "spark.sql(f\"\"\"\n",
    "    CREATE OR REPLACE TABLE Best_Bowling_Strike_Rate\n",
    "    USING DELTA\n",
    "    PARTITIONED BY (season_year)\n",
    "    LOCATION \"{gold_path}/best_bowling_strike_rate\"\n",
    "    AS {Best_Bowling_Strike_Rate}\n",
    "\"\"\")\n",
    "\n"
   ]
  },
  {
   "cell_type": "code",
   "execution_count": 0,
   "metadata": {
    "application/vnd.databricks.v1+cell": {
     "cellMetadata": {
      "byteLimit": 2048000,
      "implicitDf": true,
      "rowLimit": 10000
     },
     "inputWidgets": {},
     "nuid": "3bc54288-d1b3-48a2-9d15-860c59dcae97",
     "showTitle": false,
     "tableResultSettingsMap": {},
     "title": ""
    }
   },
   "outputs": [
    {
     "output_type": "display_data",
     "data": {
      "text/html": [
       "<style scoped>\n",
       "  .table-result-container {\n",
       "    max-height: 300px;\n",
       "    overflow: auto;\n",
       "  }\n",
       "  table, th, td {\n",
       "    border: 1px solid black;\n",
       "    border-collapse: collapse;\n",
       "  }\n",
       "  th, td {\n",
       "    padding: 5px;\n",
       "  }\n",
       "  th {\n",
       "    text-align: left;\n",
       "  }\n",
       "</style><div class='table-result-container'><table class='table-result'><thead style='background-color: white'><tr><th>col_name</th><th>data_type</th><th>comment</th></tr></thead><tbody><tr><td>season_year</td><td>int</td><td>null</td></tr><tr><td>PLAYER_ID</td><td>int</td><td>null</td></tr><tr><td>PLAYER_NAME</td><td>string</td><td>null</td></tr><tr><td>PLAYER_TEAM</td><td>string</td><td>null</td></tr><tr><td>WKTS</td><td>bigint</td><td>null</td></tr><tr><td>MAT</td><td>bigint</td><td>null</td></tr><tr><td>INNS</td><td>bigint</td><td>null</td></tr><tr><td>OV</td><td>bigint</td><td>null</td></tr><tr><td>RUNS</td><td>bigint</td><td>null</td></tr><tr><td>BBI</td><td>string</td><td>null</td></tr><tr><td>AVG</td><td>double</td><td>null</td></tr><tr><td>ECON</td><td>double</td><td>null</td></tr><tr><td>SR</td><td>double</td><td>null</td></tr><tr><td>4W</td><td>bigint</td><td>null</td></tr><tr><td>5W</td><td>bigint</td><td>null</td></tr><tr><td># Partition Information</td><td></td><td></td></tr><tr><td># col_name</td><td>data_type</td><td>comment</td></tr><tr><td>season_year</td><td>int</td><td>null</td></tr><tr><td></td><td></td><td></td></tr><tr><td># Detailed Table Information</td><td></td><td></td></tr><tr><td>Catalog</td><td>spark_catalog</td><td></td></tr><tr><td>Database</td><td>default</td><td></td></tr><tr><td>Table</td><td>PURPLE_CAP</td><td></td></tr><tr><td>Created Time</td><td>Thu Nov 07 14:39:59 UTC 2024</td><td></td></tr><tr><td>Last Access</td><td>UNKNOWN</td><td></td></tr><tr><td>Created By</td><td>Spark 3.3.2</td><td></td></tr><tr><td>Type</td><td>EXTERNAL</td><td></td></tr><tr><td>Location</td><td>dbfs:/FileStore/ipl_data/gold/bowlers/purple_cap</td><td></td></tr><tr><td>Provider</td><td>delta</td><td></td></tr><tr><td>Owner</td><td>root</td><td></td></tr><tr><td>Table Properties</td><td>[delta.minReaderVersion=1,delta.minWriterVersion=2]</td><td></td></tr></tbody></table></div>"
      ]
     },
     "metadata": {
      "application/vnd.databricks.v1+output": {
       "addedWidgets": {},
       "aggData": [],
       "aggError": "",
       "aggOverflow": false,
       "aggSchema": [],
       "aggSeriesLimitReached": false,
       "aggType": "",
       "arguments": {},
       "columnCustomDisplayInfos": {},
       "data": [
        [
         "season_year",
         "int",
         null
        ],
        [
         "PLAYER_ID",
         "int",
         null
        ],
        [
         "PLAYER_NAME",
         "string",
         null
        ],
        [
         "PLAYER_TEAM",
         "string",
         null
        ],
        [
         "WKTS",
         "bigint",
         null
        ],
        [
         "MAT",
         "bigint",
         null
        ],
        [
         "INNS",
         "bigint",
         null
        ],
        [
         "OV",
         "bigint",
         null
        ],
        [
         "RUNS",
         "bigint",
         null
        ],
        [
         "BBI",
         "string",
         null
        ],
        [
         "AVG",
         "double",
         null
        ],
        [
         "ECON",
         "double",
         null
        ],
        [
         "SR",
         "double",
         null
        ],
        [
         "4W",
         "bigint",
         null
        ],
        [
         "5W",
         "bigint",
         null
        ],
        [
         "# Partition Information",
         "",
         ""
        ],
        [
         "# col_name",
         "data_type",
         "comment"
        ],
        [
         "season_year",
         "int",
         null
        ],
        [
         "",
         "",
         ""
        ],
        [
         "# Detailed Table Information",
         "",
         ""
        ],
        [
         "Catalog",
         "spark_catalog",
         ""
        ],
        [
         "Database",
         "default",
         ""
        ],
        [
         "Table",
         "PURPLE_CAP",
         ""
        ],
        [
         "Created Time",
         "Thu Nov 07 14:39:59 UTC 2024",
         ""
        ],
        [
         "Last Access",
         "UNKNOWN",
         ""
        ],
        [
         "Created By",
         "Spark 3.3.2",
         ""
        ],
        [
         "Type",
         "EXTERNAL",
         ""
        ],
        [
         "Location",
         "dbfs:/FileStore/ipl_data/gold/bowlers/purple_cap",
         ""
        ],
        [
         "Provider",
         "delta",
         ""
        ],
        [
         "Owner",
         "root",
         ""
        ],
        [
         "Table Properties",
         "[delta.minReaderVersion=1,delta.minWriterVersion=2]",
         ""
        ]
       ],
       "datasetInfos": [],
       "dbfsResultPath": null,
       "isJsonSchema": true,
       "metadata": {},
       "overflow": false,
       "plotOptions": {
        "customPlotOptions": {},
        "displayType": "table",
        "pivotAggregation": null,
        "pivotColumns": null,
        "xColumns": null,
        "yColumns": null
       },
       "removedWidgets": [],
       "schema": [
        {
         "metadata": "{\"comment\":\"name of the column\"}",
         "name": "col_name",
         "type": "\"string\""
        },
        {
         "metadata": "{\"comment\":\"data type of the column\"}",
         "name": "data_type",
         "type": "\"string\""
        },
        {
         "metadata": "{\"comment\":\"comment of the column\"}",
         "name": "comment",
         "type": "\"string\""
        }
       ],
       "type": "table"
      }
     },
     "output_type": "display_data"
    }
   ],
   "source": [
    "%sql\n",
    "describe formatted PURPLE_CAP;"
   ]
  },
  {
   "cell_type": "markdown",
   "metadata": {
    "application/vnd.databricks.v1+cell": {
     "cellMetadata": {
      "byteLimit": 2048000,
      "rowLimit": 10000
     },
     "inputWidgets": {},
     "nuid": "2cd66a15-8512-4d8c-810c-8834f4a47fc6",
     "showTitle": false,
     "tableResultSettingsMap": {},
     "title": ""
    }
   },
   "source": [
    "Innings/Match level reports\n",
    "### Stats At innings/match level ##\n",
    "1) Most Dot Balls (innings) \n",
    "2) Best_Bowling_Strike_Rate (innings)\n",
    "3) Best_Bowling_Strike_Rate  (innings)\n",
    "4) Most_Runs_Conceded (innings)\n",
    "5) Best_Bowling_Figures_innings"
   ]
  },
  {
   "cell_type": "code",
   "execution_count": 0,
   "metadata": {
    "application/vnd.databricks.v1+cell": {
     "cellMetadata": {
      "byteLimit": 2048000,
      "rowLimit": 10000
     },
     "inputWidgets": {},
     "nuid": "be35ca09-b807-4b3e-9cb6-edb9217d81bc",
     "showTitle": false,
     "tableResultSettingsMap": {},
     "title": ""
    }
   },
   "outputs": [],
   "source": [
    "##creaate a temp table \n",
    "Best_Bowling_Figures_innings_stg=\"\"\"\n",
    "select a.season as season_year,\n",
    "a.match_id,\n",
    "a.bowler,\n",
    "d.player_name,\n",
    "d.player_team_abbrivation as player_team,\n",
    "case when ball_count IS NULL then cast(a.over_count as VARCHAR(5)) else concat(a.over_count,'.',b.ball_count) end as OV,\n",
    "c.runs,\n",
    "c.wkts,\n",
    "concat(c.wkts,'/',c.runs) as BBI,\n",
    "coalesce(round(NULLIF(total_match_balls,0)/NULLIF(wkts,0),2),0) as SR,\n",
    "d.opposit_team_abbrivation as AGNAIST,\n",
    "e.venue_name as venue,\n",
    "e.match_date\n",
    "from \n",
    "(select season,match_id,bowler,\n",
    " sum(ball_count) as total_match_balls,\n",
    "sum(case when ball_count>=6 then 1 else 0 end) as  over_count\n",
    "from over_ball_count\n",
    "group by 1,2,3 ) a\n",
    "left join \n",
    "(select season,match_id,bowler,ball_count\n",
    "from over_ball_count where ball_count<6) b on a.season=b.season and a.match_id=b.match_id and a.bowler=b.bowler\n",
    "left join \n",
    "(select season,match_id,bowler,sum(runs) as runs,sum(over_wickets) as wkts from over_ball_count group by 1,2,3) c\n",
    "on a.season=c.season and a.match_id=c.match_id and a.bowler=c.bowler\n",
    "left join \n",
    "player_match d on a.bowler=d.player_id and a.season=d.season_year and a.match_id=d.match_id \n",
    "left join \n",
    "matches e on a.season=e.season_year and a.match_id=e.match_id \"\"\"\n",
    "\n",
    "spark.sql(Best_Bowling_Figures_innings_stg).createOrReplaceTempView('Best_Bowling_Figures_innings_stg')\n",
    "\n",
    "bowler_played_matches =\"\"\" \n",
    "select \n",
    "\tseason ,match_id,bowler\n",
    "from ball_by_ball_stats a \n",
    "group by 1,2,3\"\"\"\n",
    "\n",
    "spark.sql(bowler_played_matches).createOrReplaceTempView('bowler_played_matches')\n",
    "\n",
    "\n"
   ]
  },
  {
   "cell_type": "code",
   "execution_count": 0,
   "metadata": {
    "application/vnd.databricks.v1+cell": {
     "cellMetadata": {
      "byteLimit": 2048000,
      "rowLimit": 10000
     },
     "inputWidgets": {},
     "nuid": "28d588a7-1ccd-4eb7-8930-eaf44dca4ec1",
     "showTitle": false,
     "tableResultSettingsMap": {},
     "title": ""
    }
   },
   "outputs": [
    {
     "output_type": "stream",
     "name": "stdout",
     "output_type": "stream",
     "text": [
      "Out[7]: DataFrame[num_affected_rows: bigint, num_inserted_rows: bigint]"
     ]
    }
   ],
   "source": [
    "\n",
    "Best_Bowling_Figures_innings=\"\"\"\t\n",
    "select  season_year,\n",
    "\tbowler as player_id,\n",
    "\tplayer_name,\n",
    "\tplayer_team,\n",
    "\tBBI,\n",
    "\tOV,\n",
    "\tRUNS,\n",
    "\tWKTS,\n",
    "\tSR,\n",
    "\tAGNAIST, \n",
    "\tvenue,\n",
    "\tmatch_date\n",
    "from Best_Bowling_Figures_innings_stg order by season_year asc, wkts desc;\"\"\"\n",
    "\n",
    "spark.sql(f\"\"\"\n",
    "    CREATE OR REPLACE TABLE Best_Bowling_Figures_innings\n",
    "    USING DELTA\n",
    "    PARTITIONED BY (season_year)\n",
    "    LOCATION \"{gold_path}/Best_Bowling_Figures_innings\"\n",
    "    AS {Best_Bowling_Figures_innings}\n",
    "\"\"\")\n",
    "\n",
    "Most_Dot_Balls_Innings=\"\"\"select \n",
    "a.season as season_year,\n",
    "a.bowler as player_id,\n",
    "b.player_name,\n",
    "b.player_team,\n",
    "a.dots,\n",
    "b.ov,\n",
    "b.runs,\n",
    "b.wkts,\n",
    "b.sr,\n",
    "b.AGNAIST, \n",
    "b.venue,\n",
    "b.match_date\n",
    "from dot_balls a\n",
    "left join \n",
    "Best_Bowling_Figures_innings_stg b on a.match_id=b.match_id and a.season=b.season_year and a.bowler=b.bowler\n",
    "order by a.season asc , dots desc\"\"\"\n",
    "\n",
    "\n",
    "spark.sql(f\"\"\"\n",
    "    CREATE OR REPLACE TABLE Most_Dot_Balls_Innings\n",
    "    USING DELTA\n",
    "    PARTITIONED BY (season_year)\n",
    "    LOCATION \"{gold_path}/Most_Dot_Balls_Innings\"\n",
    "    AS {Most_Dot_Balls_Innings}\n",
    "\"\"\")\n",
    "\n",
    "Best_Bowling_Economy_Innings=\"\"\"select \n",
    "a.season as season_year,\n",
    "a.bowler as player_id,\n",
    "b.player_name,\n",
    "b.player_team,\n",
    "coalesce(round(NULLIF(b.runs,0)/NULLIF(cast(b.ov as decimal),0),2),0) as ECON,\n",
    "b.ov,\n",
    "b.runs,\n",
    "b.wkts,\n",
    "a.dots,\n",
    "b.sr,\n",
    "b.AGNAIST, \n",
    "b.venue,\n",
    "b.match_date\n",
    "from dot_balls a\n",
    "left join \n",
    "Best_Bowling_Figures_innings_stg b on a.match_id=b.match_id and a.season=b.season_year and a.bowler=b.bowler\n",
    "where cast(b.ov as decimal)>1\n",
    "order by a.season asc , ECON asc\"\"\"\n",
    "\n",
    "spark.sql(f\"\"\"\n",
    "    CREATE OR REPLACE TABLE Best_Bowling_Economy_Innings\n",
    "    USING DELTA\n",
    "    PARTITIONED BY (season_year)\n",
    "    LOCATION \"{gold_path}/Best_Bowling_Economy_Innings\"\n",
    "    AS {Best_Bowling_Economy_Innings}\n",
    "\"\"\")\n",
    "\n",
    "\n",
    "Best_Bowling_Strike_Rate_Innings=\"\"\"\t\n",
    "select \n",
    "a.season as season_year,\n",
    "a.bowler as player_id,\n",
    "b.player_name,\n",
    "b.player_team,\n",
    "b.sr,\n",
    "b.ov,\n",
    "b.runs,\n",
    "b.wkts,\n",
    "b.AGNAIST, \n",
    "b.venue,\n",
    "b.match_date\n",
    "from bowler_played_matches a\n",
    "left join \n",
    "Best_Bowling_Figures_innings_stg b on a.match_id=b.match_id and a.season=b.season_year and a.bowler=b.bowler\n",
    "where b.wkts>1 \n",
    "order by a.season asc , sr asc;\"\"\"\n",
    "\n",
    "spark.sql(f\"\"\"\n",
    "    CREATE OR REPLACE TABLE Best_Bowling_Strike_Rate_Innings\n",
    "    USING DELTA\n",
    "    PARTITIONED BY (season_year)\n",
    "    LOCATION \"{gold_path}/Best_Bowling_Strike_Rate_Innings\"\n",
    "    AS {Best_Bowling_Strike_Rate_Innings}\n",
    "\"\"\")\n",
    "\n",
    "Most_Runs_Conceded_Innings=\"\"\"\n",
    "select \n",
    "a.season as season_year,\n",
    "a.bowler as player_id,\n",
    "b.player_name,\n",
    "b.player_team,\n",
    "b.runs,\n",
    "b.ov,\n",
    "b.wkts,\n",
    "b.sr,\n",
    "b.AGNAIST, \n",
    "b.venue,\n",
    "b.match_date\n",
    "from bowler_played_matches a\n",
    "left join \n",
    "Best_Bowling_Figures_innings_stg b on a.match_id=b.match_id and a.season=b.season_year and a.bowler=b.bowler\n",
    "order by a.season asc , runs desc\"\"\"\n",
    "\n",
    "spark.sql(f\"\"\"\n",
    "    CREATE OR REPLACE TABLE Most_Runs_Conceded_Innings\n",
    "    USING DELTA\n",
    "    PARTITIONED BY (season_year)\n",
    "    LOCATION \"{gold_path}/Most_Runs_Conceded_Innings\"\n",
    "    AS {Most_Runs_Conceded_Innings}\n",
    "\"\"\")\n",
    "\t\n",
    "##hatrick\n",
    "\n",
    "bowler_over_order_wicket_cnt=\"\"\"\n",
    "select \n",
    "a.season,\n",
    "a.bowler, \n",
    "a.match_id,\n",
    "a.over_id,\n",
    "is_wicket_taken,\n",
    "over_wicket_cnt,\n",
    "row_number() over(partition by a.season,a.match_id,a.bowler order by a.over_id asc) as over_order_num\n",
    "from \n",
    "(SELECT \n",
    "season,bowler, match_id,over_id,max(bowler_wicket)as is_wicket_taken,sum(bowler_wicket) as over_wicket_cnt\n",
    "from ball_by_ball_stats \n",
    "group by 1,2,3,4) a\"\"\"\n",
    "\n",
    "spark.sql(bowler_over_order_wicket_cnt).createOrReplaceTempView(\"bowler_over_order_wicket_cnt\")\n",
    "\n",
    "bowler_current_over_next_over=\"\"\"\n",
    "select \n",
    "a.season,a.bowler,a.match_id,\n",
    "a.over_id as current_over ,\n",
    "a.is_wicket_taken as current_over_is_wicket_taken,\n",
    "a.over_order_num as current_over_over_order_num,\n",
    "a.over_wicket_cnt as current_over_over_wicket_cnt,\n",
    "b.over_id as next_over ,\n",
    "b.is_wicket_taken as next_over_is_wicket_taken,\n",
    "b.over_order_num as next_over_over_order_num,\n",
    "b.over_wicket_cnt as next_over_over_wicket_cnt\n",
    "from  bowler_over_order_wicket_cnt a \n",
    "join \n",
    "bowler_over_order_wicket_cnt b on a.season=b.season and a.match_id=b.match_id \n",
    "                              and a.bowler=b.bowler and a.over_order_num+1=b.over_order_num\"\"\"\n",
    "\n",
    "spark.sql(bowler_current_over_next_over).createOrReplaceTempView(\"bowler_current_over_next_over\")\n",
    "\n",
    "bowler_cont_wick_taken_overs=\"\"\"\n",
    "select \n",
    "a.*,\n",
    "b.player_name \n",
    "from bowler_current_over_next_over  a\n",
    "join players_data b on a.bowler=b.player_id\n",
    "where  \n",
    "(current_over_over_wicket_cnt=0 and next_over_over_wicket_cnt>=3) or\n",
    "(current_over_over_wicket_cnt>=3 and next_over_over_wicket_cnt=0) or\n",
    "(current_over_over_wicket_cnt>=1 and next_over_over_wicket_cnt>=2) or\n",
    "(current_over_over_wicket_cnt>=2 and next_over_over_wicket_cnt>=1)\"\"\"\n",
    "\n",
    "spark.sql(bowler_cont_wick_taken_overs).createOrReplaceTempView(\"bowler_cont_wick_taken_overs\")\n",
    "\n",
    "wicket_taken_balls=\"\"\"\n",
    "select  \n",
    "season,\n",
    "bowler,\n",
    "match_id,\n",
    "over_id,ball_id\n",
    "from ball_by_ball_stats where  bowler_wicket=1\"\"\"\n",
    "\n",
    "spark.sql(wicket_taken_balls).createOrReplaceTempView(\"wicket_taken_balls\")\n",
    "\n",
    "overs_with_contunious_wickets=\"\"\"\n",
    "select a.*,\n",
    "row_number() over(partition by a.season,a.match_id,a.bowler order by a.over_id,a.ball_id) as rnk\n",
    "from \n",
    "(select \n",
    "a.season,a.bowler,a.match_id,a.current_over as over_id ,b.ball_id\n",
    "from bowler_cont_wick_taken_overs a\n",
    "left join \n",
    "wicket_taken_balls b on a.season=b.season and a.bowler=b.bowler and a.match_id=b.match_id \n",
    "and a.current_over=b.over_id\n",
    "union \n",
    "select \n",
    "a.season,a.bowler,a.match_id,a.next_over as over_id ,b.ball_id\n",
    "from bowler_cont_wick_taken_overs a\n",
    "left join \n",
    "wicket_taken_balls b on a.season=b.season and a.bowler=b.bowler and a.match_id=b.match_id \n",
    "and a.next_over=b.over_id) a\"\"\"\n",
    "\n",
    "spark.sql(overs_with_contunious_wickets).createOrReplaceTempView(\"overs_with_contunious_wickets\")\n",
    "\n",
    "\n",
    "hatrick=\"\"\"\n",
    "select  \n",
    "a.season,a.bowler,a.match_id,a.over_id as over_id_1,\n",
    "a.ball_id as ball_id_1,b.over_id as  over_id_2 ,b.ball_id as  ball_id_2,\n",
    "c.over_id as over_id_3,c.ball_id as ball_id_3\n",
    "from overs_with_contunious_wickets a ,\n",
    "overs_with_contunious_wickets b,\n",
    "overs_with_contunious_wickets c \n",
    "where a.season=b.season and a.match_id=b.match_id and a.bowler=b.bowler and a.rnk+1=b.rnk\n",
    "and b.season=c.season and b.match_id=c.match_id and b.bowler=c.bowler and b.rnk+1=c.rnk\"\"\"\n",
    "\n",
    "spark.sql(hatrick).createOrReplaceTempView(\"hatrick\")\n",
    "\n",
    "\n",
    "hatricks=\"\"\"\n",
    "select \n",
    "hatrick_count.season as season_year,\n",
    "hatrick_count.bowler as player_id,\n",
    "pc.player_name,\n",
    "pc.player_team,\n",
    "hatrick_count.HAT_TRICKS,\n",
    "pc.mat,\n",
    "pc.inns,\n",
    "pc.ov,\n",
    "pc.runs,\n",
    "pc.wkts,\n",
    "pc.avg,\n",
    "pc.sr,\n",
    "pc.`4W`,\n",
    "pc.`5W`\n",
    "from\n",
    " (select a.season,a.bowler,count(*) as HAT_TRICKS from \n",
    " (select season,bowler,b.player_name,\n",
    " case when over_id_1=over_id_2 and over_id_2=over_id_3\n",
    "           and (ball_id_1+1=ball_id_2 and ball_id_2+1=ball_id_3) then 'YES' --Hartick in same Over\n",
    "\t  when (ball_id_1=5 and ball_id_2=6 and over_id_1=over_id_2  and ball_id_3 =1) then 'YES'\n",
    "\t  when (ball_id_1=6 and ball_id_2=1 and ball_id_3 =2 and over_id_2=over_id_3) then 'YES'\n",
    "\t  when (ball_id_1=7 and ball_id_2=1 and ball_id_3 =2  and over_id_2=over_id_3) then 'YES'\n",
    "      when (ball_id_1=6 and ball_id_2=7  and over_id_1=over_id_2 and ball_id_3 =1) then 'YES'\n",
    "   else 'NO' end as hatrick\n",
    " from hatrick a\n",
    " join \n",
    "  Players_data b on a.bowler=b.player_id\n",
    " ) a where hatrick='YES'\n",
    " group by 1,2\n",
    ") hatrick_count\n",
    "join PURPLE_CAP PC on hatrick_count.season=pc.season_year and hatrick_count.bowler=pc.player_id\n",
    " order by season asc;\"\"\"\n",
    "\n",
    "\n",
    "spark.sql(f\"\"\"\n",
    "    CREATE OR REPLACE TABLE hatricks\n",
    "    USING DELTA\n",
    "    PARTITIONED BY (season_year)\n",
    "    LOCATION \"{gold_path}/hatricks\"\n",
    "    AS {hatricks}\n",
    "\"\"\")\n",
    "\n"
   ]
  },
  {
   "cell_type": "code",
   "execution_count": 0,
   "metadata": {
    "application/vnd.databricks.v1+cell": {
     "cellMetadata": {
      "byteLimit": 2048000,
      "rowLimit": 10000
     },
     "inputWidgets": {},
     "nuid": "00df0f54-7c65-43f5-a60e-27810da67aa2",
     "showTitle": false,
     "tableResultSettingsMap": {},
     "title": ""
    }
   },
   "outputs": [
    {
     "output_type": "display_data",
     "data": {
      "text/html": [
       "<style scoped>\n",
       "  .table-result-container {\n",
       "    max-height: 300px;\n",
       "    overflow: auto;\n",
       "  }\n",
       "  table, th, td {\n",
       "    border: 1px solid black;\n",
       "    border-collapse: collapse;\n",
       "  }\n",
       "  th, td {\n",
       "    padding: 5px;\n",
       "  }\n",
       "  th {\n",
       "    text-align: left;\n",
       "  }\n",
       "</style><div class='table-result-container'><table class='table-result'><thead style='background-color: white'><tr><th>path</th><th>name</th><th>size</th><th>modificationTime</th></tr></thead><tbody><tr><td>dbfs:/FileStore/ipl_data/gold/bowlers/Best_Bowling_Economy_Innings/</td><td>Best_Bowling_Economy_Innings/</td><td>0</td><td>0</td></tr><tr><td>dbfs:/FileStore/ipl_data/gold/bowlers/Best_Bowling_Figures_innings/</td><td>Best_Bowling_Figures_innings/</td><td>0</td><td>0</td></tr><tr><td>dbfs:/FileStore/ipl_data/gold/bowlers/Best_Bowling_Strike_Rate_Innings/</td><td>Best_Bowling_Strike_Rate_Innings/</td><td>0</td><td>0</td></tr><tr><td>dbfs:/FileStore/ipl_data/gold/bowlers/Most_Dot_Balls_Innings/</td><td>Most_Dot_Balls_Innings/</td><td>0</td><td>0</td></tr><tr><td>dbfs:/FileStore/ipl_data/gold/bowlers/Most_Maidens/</td><td>Most_Maidens/</td><td>0</td><td>0</td></tr><tr><td>dbfs:/FileStore/ipl_data/gold/bowlers/Most_Runs_Conceded_Innings/</td><td>Most_Runs_Conceded_Innings/</td><td>0</td><td>0</td></tr><tr><td>dbfs:/FileStore/ipl_data/gold/bowlers/best_bowling_average/</td><td>best_bowling_average/</td><td>0</td><td>0</td></tr><tr><td>dbfs:/FileStore/ipl_data/gold/bowlers/best_bowling_economy/</td><td>best_bowling_economy/</td><td>0</td><td>0</td></tr><tr><td>dbfs:/FileStore/ipl_data/gold/bowlers/best_bowling_strike_rate/</td><td>best_bowling_strike_rate/</td><td>0</td><td>0</td></tr><tr><td>dbfs:/FileStore/ipl_data/gold/bowlers/hatricks/</td><td>hatricks/</td><td>0</td><td>0</td></tr><tr><td>dbfs:/FileStore/ipl_data/gold/bowlers/most_dots_balls/</td><td>most_dots_balls/</td><td>0</td><td>0</td></tr><tr><td>dbfs:/FileStore/ipl_data/gold/bowlers/purple_cap/</td><td>purple_cap/</td><td>0</td><td>0</td></tr></tbody></table></div>"
      ]
     },
     "metadata": {
      "application/vnd.databricks.v1+output": {
       "addedWidgets": {},
       "aggData": [],
       "aggError": "",
       "aggOverflow": false,
       "aggSchema": [],
       "aggSeriesLimitReached": false,
       "aggType": "",
       "arguments": {},
       "columnCustomDisplayInfos": {},
       "data": [
        [
         "dbfs:/FileStore/ipl_data/gold/bowlers/Best_Bowling_Economy_Innings/",
         "Best_Bowling_Economy_Innings/",
         0,
         0
        ],
        [
         "dbfs:/FileStore/ipl_data/gold/bowlers/Best_Bowling_Figures_innings/",
         "Best_Bowling_Figures_innings/",
         0,
         0
        ],
        [
         "dbfs:/FileStore/ipl_data/gold/bowlers/Best_Bowling_Strike_Rate_Innings/",
         "Best_Bowling_Strike_Rate_Innings/",
         0,
         0
        ],
        [
         "dbfs:/FileStore/ipl_data/gold/bowlers/Most_Dot_Balls_Innings/",
         "Most_Dot_Balls_Innings/",
         0,
         0
        ],
        [
         "dbfs:/FileStore/ipl_data/gold/bowlers/Most_Maidens/",
         "Most_Maidens/",
         0,
         0
        ],
        [
         "dbfs:/FileStore/ipl_data/gold/bowlers/Most_Runs_Conceded_Innings/",
         "Most_Runs_Conceded_Innings/",
         0,
         0
        ],
        [
         "dbfs:/FileStore/ipl_data/gold/bowlers/best_bowling_average/",
         "best_bowling_average/",
         0,
         0
        ],
        [
         "dbfs:/FileStore/ipl_data/gold/bowlers/best_bowling_economy/",
         "best_bowling_economy/",
         0,
         0
        ],
        [
         "dbfs:/FileStore/ipl_data/gold/bowlers/best_bowling_strike_rate/",
         "best_bowling_strike_rate/",
         0,
         0
        ],
        [
         "dbfs:/FileStore/ipl_data/gold/bowlers/hatricks/",
         "hatricks/",
         0,
         0
        ],
        [
         "dbfs:/FileStore/ipl_data/gold/bowlers/most_dots_balls/",
         "most_dots_balls/",
         0,
         0
        ],
        [
         "dbfs:/FileStore/ipl_data/gold/bowlers/purple_cap/",
         "purple_cap/",
         0,
         0
        ]
       ],
       "datasetInfos": [],
       "dbfsResultPath": null,
       "isJsonSchema": true,
       "metadata": {
        "isDbfsCommandResult": false
       },
       "overflow": false,
       "plotOptions": {
        "customPlotOptions": {},
        "displayType": "table",
        "pivotAggregation": null,
        "pivotColumns": null,
        "xColumns": null,
        "yColumns": null
       },
       "removedWidgets": [],
       "schema": [
        {
         "metadata": "{}",
         "name": "path",
         "type": "\"string\""
        },
        {
         "metadata": "{}",
         "name": "name",
         "type": "\"string\""
        },
        {
         "metadata": "{}",
         "name": "size",
         "type": "\"long\""
        },
        {
         "metadata": "{}",
         "name": "modificationTime",
         "type": "\"long\""
        }
       ],
       "type": "table"
      }
     },
     "output_type": "display_data"
    }
   ],
   "source": [
    "%fs ls /FileStore/ipl_data/gold/bowlers"
   ]
  },
  {
   "cell_type": "markdown",
   "metadata": {
    "application/vnd.databricks.v1+cell": {
     "cellMetadata": {
      "byteLimit": 2048000,
      "rowLimit": 10000
     },
     "inputWidgets": {},
     "nuid": "6a9e66ea-960e-4138-8c67-90643f56e452",
     "showTitle": false,
     "tableResultSettingsMap": {},
     "title": ""
    }
   },
   "source": [
    "Merge All DataFrames to get final output."
   ]
  }
 ],
 "metadata": {
  "application/vnd.databricks.v1+notebook": {
   "dashboards": [],
   "environmentMetadata": null,
   "language": "python",
   "notebookMetadata": {
    "mostRecentlyExecutedCommandWithImplicitDF": {
     "commandId": 3045803298173795,
     "dataframes": [
      "_sqldf"
     ]
    },
    "pythonIndentUnit": 4
   },
   "notebookName": "IPL Data Analysis - Purple Cap Stats - SQL",
   "widgets": {
    "gold_path": {
     "currentValue": "dbfs:/FileStore/ipl_data/gold/bowlers",
     "nuid": "05243943-43a1-4c07-af4d-f4190ad2136f",
     "typedWidgetInfo": null,
     "widgetInfo": {
      "widgetType": "text",
      "defaultValue": "dbfs:/FileStore/ipl_data/gold/bowlers",
      "label": "",
      "name": "gold_path",
      "options": {
       "widgetType": "text",
       "autoCreated": false,
       "validationRegex": null
      }
     }
    }
   }
  }
 },
 "nbformat": 4,
 "nbformat_minor": 0
}
