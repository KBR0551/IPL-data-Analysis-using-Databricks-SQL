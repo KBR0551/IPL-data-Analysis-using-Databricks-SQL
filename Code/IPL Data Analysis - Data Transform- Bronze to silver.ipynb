{
 "cells": [
  {
   "cell_type": "markdown",
   "metadata": {
    "application/vnd.databricks.v1+cell": {
     "cellMetadata": {
      "byteLimit": 2048000,
      "rowLimit": 10000
     },
     "inputWidgets": {},
     "nuid": "44489bed-e513-4c6d-bac3-71fd1501f57d",
     "showTitle": false,
     "tableResultSettingsMap": {},
     "title": ""
    }
   },
   "source": [
    "\n",
    "Step 1: \n",
    "Read files from Bronze and enforce schema and save as delta tables in silver layer, \n",
    "do some sanity checks, partition the file for faster joins\n",
    "Read schema from json files\n",
    "\n",
    "Step 2: \n",
    "Read Silver layer tables to do agg's and store data in gold layer\n",
    "\n",
    "Step 3:\n",
    "Read final report/starts from gold layer\n",
    "\n"
   ]
  },
  {
   "cell_type": "markdown",
   "metadata": {
    "application/vnd.databricks.v1+cell": {
     "cellMetadata": {},
     "inputWidgets": {},
     "nuid": "bb93bc88-d9af-43be-98e3-ea1767e77f55",
     "showTitle": false,
     "tableResultSettingsMap": {},
     "title": ""
    }
   },
   "source": [
    "Create directories to store data in different zone from raw data load to aggregate data "
   ]
  },
  {
   "cell_type": "code",
   "execution_count": 0,
   "metadata": {
    "application/vnd.databricks.v1+cell": {
     "cellMetadata": {
      "byteLimit": 2048000,
      "rowLimit": 10000
     },
     "inputWidgets": {},
     "nuid": "9ceac514-b262-41ed-b5be-f6a36bf4af86",
     "showTitle": false,
     "tableResultSettingsMap": {},
     "title": ""
    }
   },
   "outputs": [
    {
     "output_type": "stream",
     "name": "stdout",
     "output_type": "stream",
     "text": [
      "dbfs:/FileStore/ipl_data\nBase directory  dbfs:/FileStore/ipl_data already exists.\ndbfs:/FileStore/ipl_data/bronze already exists...\ndbfs:/FileStore/ipl_data/silver already exists...\ndbfs:/FileStore/ipl_data/gold already exists...\n"
     ]
    }
   ],
   "source": [
    "\n",
    "base_path=dbutils.widgets.get(\"base_path\")\n",
    "zones=['bronze','silver','gold']\n",
    "\n",
    "try:\n",
    "  dbutils.fs.ls(base_path)\n",
    "  print(f\"Base directory  {base_path} already exists.\")\n",
    "except Exception:\n",
    "  dbutils.fs.mkdirs(base_path)\n",
    "  print(f\"Base directory {base_path} created.\")\n",
    "  \n",
    "for zone in range(0,len(zones)):\n",
    "  try:\n",
    "    dbutils.fs.ls(base_path+'/'+zones[zone])\n",
    "    print(f\"{base_path}\"+'/'+zones[zone]+\" already exists...\" )\n",
    "  except Exception:\n",
    "    dbutils.fs.mkdirs(base_path+'/'+zones[zone])\n",
    "    print(f\"{base_path}\"+'/'+zones[zone]+\" created...\" )\n",
    "\n",
    "#dbutils.fs.mkdirs('dbfs:/FileStore/ipl_data/bronze')\n",
    "#dbutils.fs.mkdirs('dbfs:/FileStore/ipl_data/silver')\n",
    "#dbutils.fs.mkdirs('dbfs:/FileStore/ipl_data/gold')"
   ]
  },
  {
   "cell_type": "markdown",
   "metadata": {
    "application/vnd.databricks.v1+cell": {
     "cellMetadata": {},
     "inputWidgets": {},
     "nuid": "998c2cc0-4dba-4740-a6b9-fcf9f667932f",
     "showTitle": false,
     "tableResultSettingsMap": {},
     "title": ""
    }
   },
   "source": [
    "Raw data files listing from bronze layer"
   ]
  },
  {
   "cell_type": "code",
   "execution_count": 0,
   "metadata": {
    "application/vnd.databricks.v1+cell": {
     "cellMetadata": {
      "byteLimit": 2048000,
      "rowLimit": 10000
     },
     "inputWidgets": {},
     "nuid": "0e0238bb-f67d-49b5-8a6e-62f8c8d4100e",
     "showTitle": false,
     "tableResultSettingsMap": {},
     "title": ""
    }
   },
   "outputs": [
    {
     "output_type": "display_data",
     "data": {
      "text/html": [
       "<style scoped>\n",
       "  .table-result-container {\n",
       "    max-height: 300px;\n",
       "    overflow: auto;\n",
       "  }\n",
       "  table, th, td {\n",
       "    border: 1px solid black;\n",
       "    border-collapse: collapse;\n",
       "  }\n",
       "  th, td {\n",
       "    padding: 5px;\n",
       "  }\n",
       "  th {\n",
       "    text-align: left;\n",
       "  }\n",
       "</style><div class='table-result-container'><table class='table-result'><thead style='background-color: white'><tr><th>path</th><th>name</th><th>size</th><th>modificationTime</th></tr></thead><tbody><tr><td>dbfs:/FileStore/ipl_data/bronze/Ball_By_Ball.csv</td><td>Ball_By_Ball.csv</td><td>24816834</td><td>1730318835000</td></tr><tr><td>dbfs:/FileStore/ipl_data/bronze/Match.csv</td><td>Match.csv</td><td>114194</td><td>1730318839000</td></tr><tr><td>dbfs:/FileStore/ipl_data/bronze/Player.csv</td><td>Player.csv</td><td>35160</td><td>1730318840000</td></tr><tr><td>dbfs:/FileStore/ipl_data/bronze/Player_match.csv</td><td>Player_match.csv</td><td>2674852</td><td>1730318842000</td></tr><tr><td>dbfs:/FileStore/ipl_data/bronze/Team.csv</td><td>Team.csv</td><td>341</td><td>1730318843000</td></tr></tbody></table></div>"
      ]
     },
     "metadata": {
      "application/vnd.databricks.v1+output": {
       "addedWidgets": {},
       "aggData": [],
       "aggError": "",
       "aggOverflow": false,
       "aggSchema": [],
       "aggSeriesLimitReached": false,
       "aggType": "",
       "arguments": {},
       "columnCustomDisplayInfos": {},
       "data": [
        [
         "dbfs:/FileStore/ipl_data/bronze/Ball_By_Ball.csv",
         "Ball_By_Ball.csv",
         24816834,
         1730318835000
        ],
        [
         "dbfs:/FileStore/ipl_data/bronze/Match.csv",
         "Match.csv",
         114194,
         1730318839000
        ],
        [
         "dbfs:/FileStore/ipl_data/bronze/Player.csv",
         "Player.csv",
         35160,
         1730318840000
        ],
        [
         "dbfs:/FileStore/ipl_data/bronze/Player_match.csv",
         "Player_match.csv",
         2674852,
         1730318842000
        ],
        [
         "dbfs:/FileStore/ipl_data/bronze/Team.csv",
         "Team.csv",
         341,
         1730318843000
        ]
       ],
       "datasetInfos": [],
       "dbfsResultPath": null,
       "isJsonSchema": true,
       "metadata": {
        "isDbfsCommandResult": false
       },
       "overflow": false,
       "plotOptions": {
        "customPlotOptions": {},
        "displayType": "table",
        "pivotAggregation": null,
        "pivotColumns": null,
        "xColumns": null,
        "yColumns": null
       },
       "removedWidgets": [],
       "schema": [
        {
         "metadata": "{}",
         "name": "path",
         "type": "\"string\""
        },
        {
         "metadata": "{}",
         "name": "name",
         "type": "\"string\""
        },
        {
         "metadata": "{}",
         "name": "size",
         "type": "\"long\""
        },
        {
         "metadata": "{}",
         "name": "modificationTime",
         "type": "\"long\""
        }
       ],
       "type": "table"
      }
     },
     "output_type": "display_data"
    }
   ],
   "source": [
    "%fs ls 'dbfs:/FileStore/ipl_data/bronze/'"
   ]
  },
  {
   "cell_type": "code",
   "execution_count": 0,
   "metadata": {
    "application/vnd.databricks.v1+cell": {
     "cellMetadata": {
      "byteLimit": 2048000,
      "rowLimit": 10000
     },
     "inputWidgets": {},
     "nuid": "bb926d6c-e837-4c37-b7e3-ee2f33409c4f",
     "showTitle": false,
     "tableResultSettingsMap": {},
     "title": ""
    }
   },
   "outputs": [],
   "source": [
    "from pyspark.sql import SparkSession\n",
    "from pyspark.sql.types import StructType, StructField, IntegerType, StringType, DateType,DecimalType\n",
    "import json\n",
    "\n",
    "\n",
    "# Initialize SparkSession\n",
    "spark = SparkSession.builder.appName(\"IPL_Orange_Cap_Stats\").getOrCreate()\n",
    "\n",
    "\n",
    "#schema's\n",
    "ball_by_ball_stats_schema = StructType([\n",
    "    StructField(\"Match_id\", IntegerType(), False),\n",
    "    StructField(\"Over_id\", IntegerType(), True),\n",
    "    StructField(\"Ball_id\", IntegerType(), True),\n",
    "    StructField(\"Innings_No\", IntegerType(), True),\n",
    "    StructField(\"Team_Batting\", IntegerType(), True),\n",
    "    StructField(\"Team_Bowling\", IntegerType(), True),\n",
    "    StructField(\"Striker_Batting_Position\", IntegerType(), True),\n",
    "    StructField(\"Extra_Type\", StringType(), True),\n",
    "    StructField(\"Runs_Scored\", IntegerType(), True),\n",
    "    StructField(\"Extra_runs\", IntegerType(), True),\n",
    "    StructField(\"Wides\", IntegerType(), True),\n",
    "    StructField(\"Legbyes\", IntegerType(), True),\n",
    "    StructField(\"Byes\", IntegerType(), True),\n",
    "    StructField(\"Noballs\", IntegerType(), True),\n",
    "    StructField(\"Penalty\", IntegerType(), True),\n",
    "    StructField(\"Bowler_Extras\", IntegerType(), True),\n",
    "    StructField(\"Out_type\", StringType(), True),\n",
    "    StructField(\"Caught\", IntegerType(), True),\n",
    "    StructField(\"Bowled\", IntegerType(), True),\n",
    "    StructField(\"Run_out\", IntegerType(), True),\n",
    "    StructField(\"LBW\", IntegerType(), True),\n",
    "    StructField(\"Retired_hurt\", IntegerType(), True),\n",
    "    StructField(\"Stumped\", IntegerType(), True),\n",
    "    StructField(\"caught_and_bowled\", IntegerType(), True),\n",
    "    StructField(\"hit_wicket\", IntegerType(), True),\n",
    "    StructField(\"ObstructingFeild\", IntegerType(), True),\n",
    "    StructField(\"Bowler_Wicket\", IntegerType(), True),\n",
    "    StructField(\"Match_Date\", DateType(), True),\n",
    "    StructField(\"Season\", IntegerType(), True),\n",
    "    StructField(\"Striker\", IntegerType(), True),\n",
    "    StructField(\"Non_Striker\", IntegerType(), True),\n",
    "    StructField(\"Bowler\", IntegerType(), True),\n",
    "    StructField(\"Player_Out\", IntegerType(), True),\n",
    "    StructField(\"Fielders\", IntegerType(), True),\n",
    "    StructField(\"Striker_match_SK\", IntegerType(), True),\n",
    "    StructField(\"StrikerSK\", IntegerType(), True),\n",
    "    StructField(\"NonStriker_match_SK\", IntegerType(), True),\n",
    "    StructField(\"NONStriker_SK\", IntegerType(), True),\n",
    "    StructField(\"Fielder_match_SK\", IntegerType(), True),\n",
    "    StructField(\"Fielder_SK\", IntegerType(), True),\n",
    "    StructField(\"Bowler_match_SK\", IntegerType(), True),\n",
    "    StructField(\"BOWLER_SK\", IntegerType(), True),\n",
    "    StructField(\"PlayerOut_match_SK\", IntegerType(), True),\n",
    "    StructField(\"BattingTeam_SK\", IntegerType(), True),\n",
    "    StructField(\"BowlingTeam_SK\", IntegerType(), True),\n",
    "    StructField(\"Keeper_Catch\", IntegerType(), True),\n",
    "    StructField(\"Player_out_sk\", IntegerType(), True),\n",
    "    StructField(\"MatchDateSK\", IntegerType(), True)  # Changed type from DATA to IntegerType\n",
    "])\n",
    "\n",
    "player_match_schema= StructType([\n",
    "    StructField(\"Player_match_SK\", IntegerType(), False),\n",
    "    StructField(\"PlayerMatch_key\", DecimalType(20, 0), False),  # DECIMAL(20)\n",
    "    StructField(\"Match_Id\", IntegerType(), False),\n",
    "    StructField(\"Player_Id\", IntegerType(), False),\n",
    "    StructField(\"Player_Name\", StringType(), True),  # VARCHAR(255)\n",
    "    StructField(\"DOB\", DateType(), True),  # DATE\n",
    "    StructField(\"Batting_hand\", StringType(), True),  # VARCHAR(50)\n",
    "    StructField(\"Bowling_skill\", StringType(), True),  # VARCHAR(50)\n",
    "    StructField(\"Country_Name\", StringType(), True),  # VARCHAR(100)\n",
    "    StructField(\"Role_Desc\", StringType(), True),  # VARCHAR(100)\n",
    "    StructField(\"Player_team\", StringType(), True),  # VARCHAR(100)\n",
    "    StructField(\"Opposit_Team\", StringType(), True),  # VARCHAR(100)\n",
    "    StructField(\"Season_year\", IntegerType(), True),\n",
    "    StructField(\"is_manofThematch\", IntegerType(), True),\n",
    "    StructField(\"Age_As_on_match\", IntegerType(), True),\n",
    "    StructField(\"IsPlayers_Team_won\", IntegerType(), True),\n",
    "    StructField(\"Batting_Status\", StringType(), True),  # VARCHAR(50)\n",
    "    StructField(\"Bowling_Status\", StringType(), True),  # VARCHAR(50)\n",
    "    StructField(\"Player_Captain\", StringType(), True),  # VARCHAR(50)\n",
    "    StructField(\"Opposit_captain\", StringType(), True),  # VARCHAR(50)\n",
    "    StructField(\"Player_keeper\", StringType(), True),  # VARCHAR(50)\n",
    "    StructField(\"Opposit_keeper\", StringType(), True)  # VARCHAR(50)\n",
    "])\n",
    "\n",
    "players_data_schema = StructType([\n",
    "    StructField(\"PLAYER_SK\", IntegerType(), nullable=True),\n",
    "    StructField(\"Player_Id\", IntegerType(), nullable=True),\n",
    "    StructField(\"Player_Name\", StringType(), nullable=True),\n",
    "    StructField(\"DOB\", DateType(), nullable=True),\n",
    "    StructField(\"Batting_hand\", StringType(), nullable=True),\n",
    "    StructField(\"Bowling_skill\", StringType(), nullable=True),\n",
    "    StructField(\"Country_Name\", StringType(), nullable=True)\n",
    "])\n",
    "\n",
    "\n",
    "matches_schema = StructType([\n",
    "    StructField(\"Match_SK\", IntegerType(), nullable=False),\n",
    "    StructField(\"match_id\", IntegerType(), nullable=False),\n",
    "    StructField(\"Team1\", StringType(), nullable=True),\n",
    "    StructField(\"Team2\", StringType(), nullable=True),\n",
    "    StructField(\"match_date\", DateType(), nullable=True),\n",
    "    StructField(\"Season_Year\", IntegerType(), nullable=True),\n",
    "    StructField(\"Venue_Name\", StringType(), nullable=True),\n",
    "    StructField(\"City_Name\", StringType(), nullable=True),\n",
    "    StructField(\"Country_Name\", StringType(), nullable=True),\n",
    "    StructField(\"Toss_Winner\", StringType(), nullable=True),\n",
    "    StructField(\"match_winner\", StringType(), nullable=True),\n",
    "    StructField(\"Toss_Name\", StringType(), nullable=True),\n",
    "    StructField(\"Win_Type\", StringType(), nullable=True),\n",
    "    StructField(\"Outcome_Type\", StringType(), nullable=True),\n",
    "    StructField(\"ManOfMach\", StringType(), nullable=True),\n",
    "    StructField(\"Win_Margin\", IntegerType(), nullable=True),\n",
    "    StructField(\"Country_id\", IntegerType(), nullable=True)\n",
    "])\n",
    "\n",
    "teams_schema = StructType([\n",
    "    StructField(\"team_sk\", IntegerType(), nullable=False),\n",
    "    StructField(\"team_id\", IntegerType(), nullable=False),\n",
    "    StructField(\"team_name\", StringType(), nullable=True)])\n",
    "\n"
   ]
  },
  {
   "cell_type": "code",
   "execution_count": 0,
   "metadata": {
    "application/vnd.databricks.v1+cell": {
     "cellMetadata": {
      "byteLimit": 2048000,
      "rowLimit": 10000
     },
     "inputWidgets": {},
     "nuid": "215ecb81-045d-4355-a71c-41ccaeed9f85",
     "showTitle": false,
     "tableResultSettingsMap": {},
     "title": ""
    }
   },
   "outputs": [],
   "source": [
    "# Path to the CSV file's\n",
    "dbfs_raw_file_path = dbutils.widgets.get(\"dbfs_raw_file_path\")\n",
    "dbfs_silver_path=dbutils.widgets.get(\"dbfs_silver_path\")\n",
    "from pyspark.sql.functions import split, col, expr, concat_ws, when\n",
    "# Read the CSV file's into a DataFrame\n",
    "\n",
    "\n",
    "#Enforce schema on when reading from bronze layer\n",
    "\n",
    "ball_by_ball_stats_df = spark.read.csv(dbfs_raw_file_path +'Ball_By_Ball.csv', header=True, schema=ball_by_ball_stats_schema,mode=\"FAILFAST\")\n",
    "\n",
    "player_match_df = spark.read.csv(dbfs_raw_file_path +'Player_match.csv', header=True, schema=player_match_schema,mode=\"FAILFAST\")\n",
    "\n",
    "players_data_df= spark.read.csv(dbfs_raw_file_path +'Player.csv', header=True, schema=players_data_schema,mode=\"FAILFAST\")\n",
    "\n",
    "matches_df= spark.read.csv(dbfs_raw_file_path +'Match.csv', header=True, schema=matches_schema,mode=\"PERMISSIVE\")\n",
    "\n",
    "teams_df= spark.read.csv(dbfs_raw_file_path +'Team.csv', header=True, schema=teams_schema,mode=\"FAILFAST\")\n",
    "\n",
    "\n",
    "\n",
    "## Apply minor transformations like Add new fileds, standardizing column values \n",
    "\n",
    "\n",
    "ball_by_ball_stats_df=ball_by_ball_stats_df.withColumn(\"extra_type\",\n",
    "    when(col(\"extra_type\") == \"byes\", \"Byes\")\n",
    "    .when(col(\"extra_type\") == \"legbyes\", \"Legbyes\")\n",
    "    .when(col(\"extra_type\") == \"noballs\", \"Noballs\")\n",
    "    .otherwise(col(\"extra_type\")))\n",
    "\n",
    "teams_df=teams_df.withColumn(\"team_name_abbrivation\",\n",
    "                             expr(\"concat_ws('', transform(split(team_name, ' '),x->substring(x,1,1)))\"))\n",
    "\n",
    "player_match_df=player_match_df.withColumn(\"player_team_abbrivation\",\n",
    "                             expr(\"concat_ws('', transform(split(player_team, ' '),x->substring(x,1,1)))\")).withColumn(\"Opposit_Team_abbrivation\",expr(\"concat_ws('', transform(split(Opposit_Team, ' '),x->substring(x,1,1)))\"))\n",
    "\n",
    "\n",
    "\n",
    "# Write to silver layer as delta tables.\n",
    "ball_by_ball_stats_df.write.format(\"delta\").mode(\"overwrite\").option(\"path\", dbfs_silver_path+\"ball_by_ball_stats\").partitionBy('season').saveAsTable(\"ball_by_ball_stats\")\n",
    "\n",
    "player_match_df.write.format(\"delta\").mode(\"overwrite\").option(\"path\", dbfs_silver_path+\"player_match\").option(\"mergeSchema\", \"true\").partitionBy(\"season_year\").saveAsTable(\"player_match\")\n",
    "\n",
    "players_data_df.write.format(\"delta\").mode(\"overwrite\").option(\"path\",dbfs_silver_path+\"players_data\").saveAsTable(\"players_data\")\n",
    "\n",
    "matches_df.write.format(\"delta\").mode(\"overwrite\").option(\"path\",dbfs_silver_path+\"matches\").saveAsTable(\"matches\")\n",
    "\n",
    "\n",
    "teams_df.write.format(\"delta\").mode(\"overwrite\").option(\"path\", dbfs_silver_path+\"teams\").option(\"mergeSchema\", \"true\").saveAsTable(\"teams\")\n",
    "\n"
   ]
  },
  {
   "cell_type": "code",
   "execution_count": 0,
   "metadata": {
    "application/vnd.databricks.v1+cell": {
     "cellMetadata": {
      "byteLimit": 2048000,
      "rowLimit": 10000
     },
     "inputWidgets": {},
     "nuid": "396f7e06-d0a2-4224-b9b5-8c5e1f907874",
     "showTitle": false,
     "tableResultSettingsMap": {},
     "title": ""
    }
   },
   "outputs": [
    {
     "output_type": "display_data",
     "data": {
      "text/html": [
       "<style scoped>\n",
       "  .table-result-container {\n",
       "    max-height: 300px;\n",
       "    overflow: auto;\n",
       "  }\n",
       "  table, th, td {\n",
       "    border: 1px solid black;\n",
       "    border-collapse: collapse;\n",
       "  }\n",
       "  th, td {\n",
       "    padding: 5px;\n",
       "  }\n",
       "  th {\n",
       "    text-align: left;\n",
       "  }\n",
       "</style><div class='table-result-container'><table class='table-result'><thead style='background-color: white'><tr><th>path</th><th>name</th><th>size</th><th>modificationTime</th></tr></thead><tbody><tr><td>dbfs:/FileStore/ipl_data/silver/ball_by_ball_stats/</td><td>ball_by_ball_stats/</td><td>0</td><td>0</td></tr><tr><td>dbfs:/FileStore/ipl_data/silver/matches/</td><td>matches/</td><td>0</td><td>0</td></tr><tr><td>dbfs:/FileStore/ipl_data/silver/player_match/</td><td>player_match/</td><td>0</td><td>0</td></tr><tr><td>dbfs:/FileStore/ipl_data/silver/players_data/</td><td>players_data/</td><td>0</td><td>0</td></tr><tr><td>dbfs:/FileStore/ipl_data/silver/teams/</td><td>teams/</td><td>0</td><td>0</td></tr></tbody></table></div>"
      ]
     },
     "metadata": {
      "application/vnd.databricks.v1+output": {
       "addedWidgets": {},
       "aggData": [],
       "aggError": "",
       "aggOverflow": false,
       "aggSchema": [],
       "aggSeriesLimitReached": false,
       "aggType": "",
       "arguments": {},
       "columnCustomDisplayInfos": {},
       "data": [
        [
         "dbfs:/FileStore/ipl_data/silver/ball_by_ball_stats/",
         "ball_by_ball_stats/",
         0,
         0
        ],
        [
         "dbfs:/FileStore/ipl_data/silver/matches/",
         "matches/",
         0,
         0
        ],
        [
         "dbfs:/FileStore/ipl_data/silver/player_match/",
         "player_match/",
         0,
         0
        ],
        [
         "dbfs:/FileStore/ipl_data/silver/players_data/",
         "players_data/",
         0,
         0
        ],
        [
         "dbfs:/FileStore/ipl_data/silver/teams/",
         "teams/",
         0,
         0
        ]
       ],
       "datasetInfos": [],
       "dbfsResultPath": null,
       "isJsonSchema": true,
       "metadata": {
        "isDbfsCommandResult": false
       },
       "overflow": false,
       "plotOptions": {
        "customPlotOptions": {},
        "displayType": "table",
        "pivotAggregation": null,
        "pivotColumns": null,
        "xColumns": null,
        "yColumns": null
       },
       "removedWidgets": [],
       "schema": [
        {
         "metadata": "{}",
         "name": "path",
         "type": "\"string\""
        },
        {
         "metadata": "{}",
         "name": "name",
         "type": "\"string\""
        },
        {
         "metadata": "{}",
         "name": "size",
         "type": "\"long\""
        },
        {
         "metadata": "{}",
         "name": "modificationTime",
         "type": "\"long\""
        }
       ],
       "type": "table"
      }
     },
     "output_type": "display_data"
    }
   ],
   "source": [
    "%fs ls /FileStore/ipl_data/silver/"
   ]
  },
  {
   "cell_type": "code",
   "execution_count": 0,
   "metadata": {
    "application/vnd.databricks.v1+cell": {
     "cellMetadata": {
      "byteLimit": 2048000,
      "implicitDf": true,
      "rowLimit": 10000
     },
     "inputWidgets": {},
     "nuid": "c833a62e-2c89-4f58-8a49-32639250fbb2",
     "showTitle": false,
     "tableResultSettingsMap": {},
     "title": ""
    }
   },
   "outputs": [
    {
     "output_type": "display_data",
     "data": {
      "text/html": [
       "<style scoped>\n",
       "  .table-result-container {\n",
       "    max-height: 300px;\n",
       "    overflow: auto;\n",
       "  }\n",
       "  table, th, td {\n",
       "    border: 1px solid black;\n",
       "    border-collapse: collapse;\n",
       "  }\n",
       "  th, td {\n",
       "    padding: 5px;\n",
       "  }\n",
       "  th {\n",
       "    text-align: left;\n",
       "  }\n",
       "</style><div class='table-result-container'><table class='table-result'><thead style='background-color: white'><tr><th>table_name</th><th>record_count</th></tr></thead><tbody><tr><td>ball_by_ball_stats</td><td>150451</td></tr><tr><td>matches</td><td>637</td></tr><tr><td>player_match</td><td>13992</td></tr><tr><td>players_data</td><td>498</td></tr><tr><td>teams</td><td>13</td></tr></tbody></table></div>"
      ]
     },
     "metadata": {
      "application/vnd.databricks.v1+output": {
       "addedWidgets": {},
       "aggData": [],
       "aggError": "",
       "aggOverflow": false,
       "aggSchema": [],
       "aggSeriesLimitReached": false,
       "aggType": "",
       "arguments": {},
       "columnCustomDisplayInfos": {},
       "data": [
        [
         "ball_by_ball_stats",
         150451
        ],
        [
         "matches",
         637
        ],
        [
         "player_match",
         13992
        ],
        [
         "players_data",
         498
        ],
        [
         "teams",
         13
        ]
       ],
       "datasetInfos": [],
       "dbfsResultPath": null,
       "isJsonSchema": true,
       "metadata": {},
       "overflow": false,
       "plotOptions": {
        "customPlotOptions": {},
        "displayType": "table",
        "pivotAggregation": null,
        "pivotColumns": null,
        "xColumns": null,
        "yColumns": null
       },
       "removedWidgets": [],
       "schema": [
        {
         "metadata": "{}",
         "name": "table_name",
         "type": "\"string\""
        },
        {
         "metadata": "{}",
         "name": "record_count",
         "type": "\"long\""
        }
       ],
       "type": "table"
      }
     },
     "output_type": "display_data"
    }
   ],
   "source": [
    "%sql\n",
    "select 'ball_by_ball_stats' as table_name,count(*) as record_count from ball_by_ball_stats\n",
    "union \n",
    "select 'matches' as table_name,count(*) as record_count from matches\n",
    "union \n",
    "select 'player_match' as table_name,count(*) as record_count from player_match\n",
    "union \n",
    "select 'players_data' as table_name,count(*) as record_count from players_data\n",
    "union\n",
    "select 'teams' as table_name,count(*) as record_count from teams;"
   ]
  }
 ],
 "metadata": {
  "application/vnd.databricks.v1+notebook": {
   "dashboards": [],
   "environmentMetadata": null,
   "language": "python",
   "notebookMetadata": {
    "mostRecentlyExecutedCommandWithImplicitDF": {
     "commandId": 2672295937406057,
     "dataframes": [
      "_sqldf"
     ]
    },
    "pythonIndentUnit": 4
   },
   "notebookName": "IPL Data Analysis - Data Transform- Bronze to silver",
   "widgets": {
    "base_path": {
     "currentValue": "dbfs:/FileStore/ipl_data",
     "nuid": "f69f1978-598a-4db5-9b47-e800884d50de",
     "typedWidgetInfo": null,
     "widgetInfo": {
      "widgetType": "text",
      "defaultValue": "dbfs:/FileStore/ipl_data",
      "label": "",
      "name": "base_path",
      "options": {
       "widgetType": "text",
       "autoCreated": false,
       "validationRegex": null
      }
     }
    },
    "dbfs_raw_file_path": {
     "currentValue": "dbfs:/FileStore/ipl_data/bronze/",
     "nuid": "2d7678cc-76d2-4594-b939-f61c4749b93c",
     "typedWidgetInfo": null,
     "widgetInfo": {
      "widgetType": "text",
      "defaultValue": "dbfs:/FileStore/ipl_data/bronze/",
      "label": "",
      "name": "dbfs_raw_file_path",
      "options": {
       "widgetType": "text",
       "autoCreated": false,
       "validationRegex": null
      }
     }
    },
    "dbfs_silver_path": {
     "currentValue": "dbfs:/FileStore/ipl_data/silver/",
     "nuid": "f5e1efbc-5d10-4c15-b242-6dd80a210d61",
     "typedWidgetInfo": null,
     "widgetInfo": {
      "widgetType": "text",
      "defaultValue": "dbfs:/FileStore/ipl_data/silver/",
      "label": "",
      "name": "dbfs_silver_path",
      "options": {
       "widgetType": "text",
       "autoCreated": false,
       "validationRegex": null
      }
     }
    }
   }
  }
 },
 "nbformat": 4,
 "nbformat_minor": 0
}
